{
 "cells": [
  {
   "cell_type": "markdown",
   "metadata": {},
   "source": [
    "# WEB SCRAPPING FOR COLLECTING REQUIRED DATA."
   ]
  },
  {
   "cell_type": "raw",
   "metadata": {},
   "source": [
    "Business problem:\n",
    "\n",
    "The client has a website where their customers write reviews for the technical products. Now the client wants to add a rating (stars) feature. The ratings are 1 star,2 stars,3 stars,4 stars,5 stars. The client wants to predict the rating for the reviews written in past and they don't have ratings. So our task is to scrap reviews with ratings for the technical products from different websites and build an ML model to predict the past reviews from the client website.  "
   ]
  },
  {
   "cell_type": "raw",
   "metadata": {},
   "source": [
    "First we will start web scrapping for technical products like Smart phone,Digital Camera, Smart watch, Printer, Laptop etc..\n",
    "For webscrapping we are going to use Selenium. The websites we are going to scrap are Flipkart and Amazon.in. "
   ]
  },
  {
   "cell_type": "markdown",
   "metadata": {},
   "source": [
    "Required liabraries. "
   ]
  },
  {
   "cell_type": "code",
   "execution_count": 14,
   "metadata": {},
   "outputs": [],
   "source": [
    "import selenium\n",
    "from selenium import webdriver\n",
    "import time\n",
    "from selenium.common.exceptions import NoSuchElementException\n",
    "import pandas as pd"
   ]
  },
  {
   "cell_type": "code",
   "execution_count": 15,
   "metadata": {},
   "outputs": [],
   "source": [
    "driver=webdriver.Firefox('E:\\geckodriver-v0.29.1-win64') #Activating the Firefox browser"
   ]
  },
  {
   "cell_type": "code",
   "execution_count": null,
   "metadata": {},
   "outputs": [],
   "source": [
    " "
   ]
  },
  {
   "cell_type": "markdown",
   "metadata": {},
   "source": [
    "1St product"
   ]
  },
  {
   "cell_type": "code",
   "execution_count": 33,
   "metadata": {},
   "outputs": [],
   "source": [
    "#Opening Canon Digital Camera from flipkart website\n",
    "\n",
    "driver.get(\"https://www.flipkart.com/canon-eos-3000d-dslr-camera-1-body-18-55-mm-lens/p/itm6f665fea97bc2?pid=CAMF3DHJURPEMNRN&lid=LSTCAMF3DHJURPEMNRNYD4BKP&marketplace=FLIPKART&q=professional+camera&store=jek%2Fp31%2Ftrv&srno=s_1_3&otracker=AS_QueryStore_HistoryAutoSuggest_1_6_na_na_na&otracker1=AS_QueryStore_HistoryAutoSuggest_1_6_na_na_na&fm=SEARCH&iid=b1ba8970-b841-413e-96a6-ab2fa206fe71.CAMF3DHJURPEMNRN.SEARCH&ppt=sp&ppn=sp&ssid=b4759879uu6976yo1627654089822&qH=43a1f7122e7538f4\")"
   ]
  },
  {
   "cell_type": "code",
   "execution_count": 34,
   "metadata": {},
   "outputs": [],
   "source": [
    "#Selecting the ratings option. \n",
    "\n",
    "driver.find_element_by_xpath(\"//span[@class='_13vcmD']\").click()"
   ]
  },
  {
   "cell_type": "code",
   "execution_count": 35,
   "metadata": {},
   "outputs": [],
   "source": [
    "#Clicking on full reviews option to see all the reviews written for the product.\n",
    "\n",
    "driver.find_element_by_xpath(\"(//a/div['_3UAT2v _16PBlm']/span)[1]\").click()"
   ]
  },
  {
   "cell_type": "code",
   "execution_count": 36,
   "metadata": {},
   "outputs": [],
   "source": [
    "#creating empty list for reviews and ratings.\n",
    "\n",
    "full_reviews=[]\n",
    "ratings=[]"
   ]
  },
  {
   "cell_type": "code",
   "execution_count": null,
   "metadata": {},
   "outputs": [],
   "source": [
    "#We will scrap reviews and ratings together by running loop "
   ]
  },
  {
   "cell_type": "code",
   "execution_count": 37,
   "metadata": {},
   "outputs": [],
   "source": [
    "#scrapping for reviews \n",
    "for a in driver.find_elements_by_xpath(\"//div[@class='t-ZTKy']/div/div\"):\n",
    "    full_reviews.append(a.text)\n",
    "    \n",
    "#scrapping for ratings    \n",
    "for b in driver.find_elements_by_xpath(\"//div[@class='col _2wzgFH K0kLPL']/div[1]/div[1]\"):\n",
    "    ratings.append(b.text)\n",
    "time.sleep(1)\n",
    "    #clciking on second page for reviews\n",
    "driver.find_element_by_xpath(\"//a[@class='_1LKTO3']/span\").click()\n",
    "time.sleep(2)\n",
    "    # running loop till the end of pages of all reviews\n",
    "while True:\n",
    "    time.sleep(2)\n",
    "    for i in driver.find_elements_by_xpath(\"//div[@class='t-ZTKy']/div/div\"):\n",
    "        full_reviews.append(i.text)\n",
    "    for j in driver.find_elements_by_xpath(\"//div[@class='col _2wzgFH K0kLPL']/div[1]/div[1]\"):\n",
    "        ratings.append(j.text)\n",
    "    try:\n",
    "        driver.find_element_by_xpath(\"//a[@class='_1LKTO3'][2]/span\").click()\n",
    "        time.sleep(2)\n",
    "    except:\n",
    "        break"
   ]
  },
  {
   "cell_type": "code",
   "execution_count": 38,
   "metadata": {},
   "outputs": [
    {
     "data": {
      "text/plain": [
       "(3408, 3408)"
      ]
     },
     "execution_count": 38,
     "metadata": {},
     "output_type": "execute_result"
    }
   ],
   "source": [
    "#checking length of scrapped reviews and ratings\n",
    "len(full_reviews), len(ratings)"
   ]
  },
  {
   "cell_type": "code",
   "execution_count": 39,
   "metadata": {},
   "outputs": [],
   "source": [
    "#creating dataframe for the scrapped reviews and ratings.\n",
    "prod_df3 = pd.DataFrame({'ratings':ratings,'full_reviews':full_reviews})"
   ]
  },
  {
   "cell_type": "code",
   "execution_count": 40,
   "metadata": {},
   "outputs": [
    {
     "data": {
      "text/plain": [
       "5    2317\n",
       "4     725\n",
       "3     171\n",
       "1     145\n",
       "2      50\n",
       "Name: ratings, dtype: int64"
      ]
     },
     "execution_count": 40,
     "metadata": {},
     "output_type": "execute_result"
    }
   ],
   "source": [
    "#With the help of pandas.value_counts().\n",
    "#we can check how many ratings and how many 5 start, 4star, 3star, 2 star and 1star scrapped from this product \n",
    "\n",
    "prod_df3['ratings'].value_counts()"
   ]
  },
  {
   "cell_type": "raw",
   "metadata": {},
   "source": [
    "We can see that we scrapped 2317, \"5 star rating\" reviews, 725 \"4 star rating\",171 \"3 star rating\",50 \"2 star rating\", 145 \"1 star rating\". \n",
    "It is better to scrap all the rating (5,4,3,2,1) with reviews in same number. So that we can train the data without imbalance. "
   ]
  },
  {
   "cell_type": "code",
   "execution_count": null,
   "metadata": {},
   "outputs": [],
   "source": []
  },
  {
   "cell_type": "markdown",
   "metadata": {},
   "source": [
    "2nd product"
   ]
  },
  {
   "cell_type": "code",
   "execution_count": 46,
   "metadata": {},
   "outputs": [],
   "source": [
    "##Opening Canon printer from flipkart website\n",
    "\n",
    "\n",
    "driver.get(\"https://www.flipkart.com/canon-pixma-mg2470-all-in-one-inkjet-printer/p/itmdqatqsyzyzffn?pid=PRNDQAR9KZEKSKRF&lid=LSTPRNDQAR9KZEKSKRFEMB7B0&marketplace=FLIPKART&q=printer+with+scanner+and+xerox&store=6bo%2Ftia%2Fffn%2Ft64%2Fmpr&srno=s_1_5&otracker=AS_QueryStore_OrganicAutoSuggest_1_7_na_na_na&otracker1=AS_QueryStore_OrganicAutoSuggest_1_7_na_na_na&fm=SEARCH&iid=7d233b80-d517-4ba3-aede-cfdacaacf2bb.PRNDQAR9KZEKSKRF.SEARCH&ppt=sp&ppn=sp&ssid=e72a8tb0y8wi79xc1627656267232&qH=80398a8433405bab\")"
   ]
  },
  {
   "cell_type": "code",
   "execution_count": 47,
   "metadata": {},
   "outputs": [],
   "source": [
    "#Selecting the ratings option. \n",
    "\n",
    "driver.find_element_by_xpath(\"//span[@class='_13vcmD']\").click()"
   ]
  },
  {
   "cell_type": "code",
   "execution_count": 48,
   "metadata": {},
   "outputs": [],
   "source": [
    "#Clicking on full reviews option to see all the reviews written for the product.\n",
    "\n",
    "\n",
    "driver.find_element_by_xpath(\"(//a/div['_3UAT2v _16PBlm']/span)[1]\").click()"
   ]
  },
  {
   "cell_type": "code",
   "execution_count": 49,
   "metadata": {},
   "outputs": [],
   "source": [
    "#creating empty list for reviews and ratings.\n",
    "\n",
    "\n",
    "full_reviews=[]\n",
    "ratings=[]"
   ]
  },
  {
   "cell_type": "code",
   "execution_count": 50,
   "metadata": {},
   "outputs": [],
   "source": [
    "#We will scrap reviews and ratings together by running loop \n",
    "\n",
    "#scrapping for reviews \n",
    "\n",
    "for a in driver.find_elements_by_xpath(\"//div[@class='t-ZTKy']/div/div\"):\n",
    "    full_reviews.append(a.text)\n",
    "    \n",
    "#scrapping for ratings    \n",
    "\n",
    "for b in driver.find_elements_by_xpath(\"//div[@class='col _2wzgFH K0kLPL']/div[1]/div[1]\"):\n",
    "    ratings.append(b.text)\n",
    "time.sleep(1)\n",
    "    #clciking on second page for reviews\n",
    "driver.find_element_by_xpath(\"//a[@class='_1LKTO3']/span\").click()\n",
    "time.sleep(2)\n",
    "    # running loop till the end of pages of all reviews\n",
    "while True:\n",
    "    time.sleep(2)\n",
    "    for i in driver.find_elements_by_xpath(\"//div[@class='t-ZTKy']/div/div\"):\n",
    "        full_reviews.append(i.text)\n",
    "    for j in driver.find_elements_by_xpath(\"//div[@class='col _2wzgFH K0kLPL']/div[1]/div[1]\"):\n",
    "        ratings.append(j.text)\n",
    "    try:\n",
    "        driver.find_element_by_xpath(\"//a[@class='_1LKTO3'][2]/span\").click()\n",
    "        time.sleep(2)\n",
    "    except:\n",
    "        break"
   ]
  },
  {
   "cell_type": "code",
   "execution_count": 51,
   "metadata": {},
   "outputs": [
    {
     "data": {
      "text/plain": [
       "(4016, 4016)"
      ]
     },
     "execution_count": 51,
     "metadata": {},
     "output_type": "execute_result"
    }
   ],
   "source": [
    "\n",
    "#checking length of scrapped reviews and ratings\n",
    "\n",
    "len(full_reviews),len(ratings)"
   ]
  },
  {
   "cell_type": "code",
   "execution_count": 52,
   "metadata": {},
   "outputs": [],
   "source": [
    "#creating dataframe for the scrapped reviews and ratings.\n",
    "\n",
    "\n",
    "prod_df4 = pd.DataFrame({'ratings':ratings,'full_reviews':full_reviews})"
   ]
  },
  {
   "cell_type": "code",
   "execution_count": 53,
   "metadata": {},
   "outputs": [
    {
     "data": {
      "text/plain": [
       "5    1818\n",
       "1     949\n",
       "4     689\n",
       "3     349\n",
       "2     211\n",
       "Name: ratings, dtype: int64"
      ]
     },
     "execution_count": 53,
     "metadata": {},
     "output_type": "execute_result"
    }
   ],
   "source": [
    "#With the help of pandas.value_counts().\n",
    "#we can check how many ratings and how many 5 start, 4star, 3star, 2 star and 1star scrapped from this product \n",
    "\n",
    "\n",
    "prod_df4['ratings'].value_counts()"
   ]
  },
  {
   "cell_type": "raw",
   "metadata": {},
   "source": [
    "We can see that we scrapped 1818, \"5 star rating\" reviews, 689 \"4 star rating\",349 \"3 star rating\",211 \"2 star rating\", 949 \"1 star rating\". \n"
   ]
  },
  {
   "cell_type": "code",
   "execution_count": null,
   "metadata": {},
   "outputs": [],
   "source": []
  },
  {
   "cell_type": "markdown",
   "metadata": {},
   "source": [
    "3rd Product"
   ]
  },
  {
   "cell_type": "code",
   "execution_count": 58,
   "metadata": {},
   "outputs": [],
   "source": [
    "#Opening HP Printer from Amazon.in website\n",
    "\n",
    "\n",
    "driver.get(\"https://www.amazon.in/HP-DeskJet-Inkjet-Colour-Printer/dp/B08D9NDZ1Y/ref=sr_1_3?dchild=1&keywords=printer&qid=1627659132&sr=8-3\")"
   ]
  },
  {
   "cell_type": "code",
   "execution_count": 59,
   "metadata": {},
   "outputs": [],
   "source": [
    "#Clicking on product ratings option\n",
    "\n",
    "driver.find_element_by_id(\"acrCustomerReviewText\").click()"
   ]
  },
  {
   "cell_type": "code",
   "execution_count": 60,
   "metadata": {},
   "outputs": [],
   "source": [
    "#Clicking on \"see all reviews\".\n",
    "\n",
    "driver.find_element_by_xpath(\"//a[@class='a-link-emphasis a-text-bold']\").click()"
   ]
  },
  {
   "cell_type": "code",
   "execution_count": 62,
   "metadata": {},
   "outputs": [],
   "source": [
    "#In amazon website we have an option to scrap particular rating reviews. So now we are going to scrap 4star rating for the product\n",
    "\n",
    "driver.find_element_by_xpath(\"(//table[@class='a-normal a-align-center a-spacing-base']/tbody/tr[2]/td/span/a)[1]\").click()"
   ]
  },
  {
   "cell_type": "code",
   "execution_count": 57,
   "metadata": {},
   "outputs": [],
   "source": [
    "#creating empty list for reviews and ratings\n",
    "\n",
    "full_reviews=[]\n",
    "ratings=[]"
   ]
  },
  {
   "cell_type": "code",
   "execution_count": 63,
   "metadata": {},
   "outputs": [],
   "source": [
    "#We will scrap reviews and ratings together by running loop \n",
    "\n",
    "#scrapping for reviews \n",
    "for a in driver.find_elements_by_xpath(\"//span[@class='a-size-base review-text review-text-content']\"):\n",
    "    full_reviews.append(a.text)\n",
    "    \n",
    "#scrapping for ratings    \n",
    "for b in driver.find_elements_by_xpath(\"//div[@class='a-row']/a/i/span [@class='a-icon-alt']\"):\n",
    "    ratings.append(b.get_attribute('innerHTML').split(' ')[0])\n",
    "time.sleep(1)\n",
    "    #clciking on second page for reviews\n",
    "driver.find_element_by_xpath(\"//ul[@class='a-pagination']/li[2]/a\").click()\n",
    "time.sleep(2)\n",
    "    # running loop till the end of pages of all reviews\n",
    "while True:\n",
    "    time.sleep(2)\n",
    "    for i in driver.find_elements_by_xpath(\"//span[@class='a-size-base review-text review-text-content']\"):\n",
    "        full_reviews.append(i.text)\n",
    "    for j in driver.find_elements_by_xpath(\"//div[@class='a-row']/a/i/span [@class='a-icon-alt']\"):\n",
    "        ratings.append(j.get_attribute('innerHTML').split(' ')[0])\n",
    "    try:\n",
    "        driver.find_element_by_xpath(\"//ul[@class='a-pagination']/li[2]/a\").click()\n",
    "        time.sleep(1)\n",
    "    except:\n",
    "        break"
   ]
  },
  {
   "cell_type": "code",
   "execution_count": 65,
   "metadata": {},
   "outputs": [
    {
     "data": {
      "text/plain": [
       "(1139, 1139)"
      ]
     },
     "execution_count": 65,
     "metadata": {},
     "output_type": "execute_result"
    }
   ],
   "source": [
    "#checking length of scrapped reviews and ratings\n",
    "\n",
    "len(full_reviews),len(ratings)"
   ]
  },
  {
   "cell_type": "code",
   "execution_count": 66,
   "metadata": {},
   "outputs": [],
   "source": [
    "#creating dataframe for the scrapped reviews and ratings.\n",
    "\n",
    "prod_df5 = pd.DataFrame({'ratings':ratings,'full_reviews':full_reviews})"
   ]
  },
  {
   "cell_type": "code",
   "execution_count": 67,
   "metadata": {},
   "outputs": [
    {
     "data": {
      "text/plain": [
       "4.0    1139\n",
       "Name: ratings, dtype: int64"
      ]
     },
     "execution_count": 67,
     "metadata": {},
     "output_type": "execute_result"
    }
   ],
   "source": [
    "prod_df5['ratings'].value_counts()"
   ]
  },
  {
   "cell_type": "raw",
   "metadata": {},
   "source": [
    "We got 1139 \"4 star rating\" reviews with ratings. "
   ]
  },
  {
   "cell_type": "code",
   "execution_count": null,
   "metadata": {},
   "outputs": [],
   "source": []
  },
  {
   "cell_type": "code",
   "execution_count": null,
   "metadata": {},
   "outputs": [],
   "source": [
    "#Scrapping 1 star reviews for the same product"
   ]
  },
  {
   "cell_type": "code",
   "execution_count": 68,
   "metadata": {},
   "outputs": [],
   "source": [
    "#clicking on 1 star rating reviews \n",
    "\n",
    "driver.find_element_by_xpath(\"(//table[@class='a-normal a-align-center a-spacing-base']/tbody/tr[5]/td/span/a)[1]\").click()"
   ]
  },
  {
   "cell_type": "code",
   "execution_count": 69,
   "metadata": {},
   "outputs": [],
   "source": [
    "#creating emplty list for reviews and ratings\n",
    "\n",
    "full_reviews=[]\n",
    "ratings=[]"
   ]
  },
  {
   "cell_type": "code",
   "execution_count": 70,
   "metadata": {},
   "outputs": [],
   "source": [
    "#scrapping for reviews \n",
    "for a in driver.find_elements_by_xpath(\"//span[@class='a-size-base review-text review-text-content']\"):\n",
    "    full_reviews.append(a.text)\n",
    "    \n",
    "#scrapping for ratings    \n",
    "\n",
    "for b in driver.find_elements_by_xpath(\"//div[@class='a-row']/a/i/span [@class='a-icon-alt']\"):\n",
    "    ratings.append(b.get_attribute('innerHTML').split(' ')[0])\n",
    "time.sleep(1)\n",
    "    #clciking on second page for reviews\n",
    "driver.find_element_by_xpath(\"//ul[@class='a-pagination']/li[2]/a\").click()\n",
    "time.sleep(2)\n",
    "    # running loop till the end of pages of all reviews\n",
    "while True:\n",
    "    time.sleep(2)\n",
    "    for i in driver.find_elements_by_xpath(\"//span[@class='a-size-base review-text review-text-content']\"):\n",
    "        full_reviews.append(i.text)\n",
    "    for j in driver.find_elements_by_xpath(\"//div[@class='a-row']/a/i/span [@class='a-icon-alt']\"):\n",
    "        ratings.append(j.get_attribute('innerHTML').split(' ')[0])\n",
    "    try:\n",
    "        driver.find_element_by_xpath(\"//ul[@class='a-pagination']/li[2]/a\").click()\n",
    "        time.sleep(1)\n",
    "    except:\n",
    "        break"
   ]
  },
  {
   "cell_type": "code",
   "execution_count": 71,
   "metadata": {},
   "outputs": [
    {
     "data": {
      "text/plain": [
       "(1920, 1920)"
      ]
     },
     "execution_count": 71,
     "metadata": {},
     "output_type": "execute_result"
    }
   ],
   "source": [
    "#checking length of scrapped reviews and ratings\n",
    "\n",
    "len(full_reviews),len(ratings)"
   ]
  },
  {
   "cell_type": "code",
   "execution_count": 72,
   "metadata": {},
   "outputs": [],
   "source": [
    "#creating dataframe for the scrapped reviews and ratings.\n",
    "\n",
    "prod_df6 = pd.DataFrame({'ratings':ratings,'full_reviews':full_reviews})"
   ]
  },
  {
   "cell_type": "code",
   "execution_count": 73,
   "metadata": {},
   "outputs": [
    {
     "data": {
      "text/plain": [
       "1.0    1920\n",
       "Name: ratings, dtype: int64"
      ]
     },
     "execution_count": 73,
     "metadata": {},
     "output_type": "execute_result"
    }
   ],
   "source": [
    "prod_df6['ratings'].value_counts()"
   ]
  },
  {
   "cell_type": "raw",
   "metadata": {},
   "source": [
    "We got 1920  \"1 star rating\" reviews with ratings. "
   ]
  },
  {
   "cell_type": "code",
   "execution_count": null,
   "metadata": {},
   "outputs": [],
   "source": []
  },
  {
   "cell_type": "code",
   "execution_count": 83,
   "metadata": {},
   "outputs": [],
   "source": [
    "#Now we will scrap for 3 star rating reviews for the same product\n",
    "\n",
    "driver.find_element_by_xpath(\"(//table[@class='a-normal a-align-center a-spacing-base']/tbody/tr[3]/td/span/a)[1]\").click()"
   ]
  },
  {
   "cell_type": "code",
   "execution_count": 84,
   "metadata": {},
   "outputs": [],
   "source": [
    "#creating empty list for reviews and ratings.\n",
    "\n",
    "full_reviews=[]\n",
    "ratings=[]"
   ]
  },
  {
   "cell_type": "code",
   "execution_count": 85,
   "metadata": {},
   "outputs": [],
   "source": [
    "#scrapping for reviews\n",
    "\n",
    "for a in driver.find_elements_by_xpath(\"//span[@class='a-size-base review-text review-text-content']\"):\n",
    "    full_reviews.append(a.text)\n",
    "    \n",
    "#scrapping for ratings\n",
    "for b in driver.find_elements_by_xpath(\"//div[@class='a-row']/a/i/span [@class='a-icon-alt']\"):\n",
    "    ratings.append(b.get_attribute('innerHTML').split(' ')[0])\n",
    "time.sleep(1)\n",
    "    #clciking on second page for reviews\n",
    "driver.find_element_by_xpath(\"//ul[@class='a-pagination']/li[2]/a\").click()\n",
    "time.sleep(2)\n",
    "    # running loop till the end of pages of all reviews\n",
    "while True:\n",
    "    time.sleep(2)\n",
    "    for i in driver.find_elements_by_xpath(\"//span[@class='a-size-base review-text review-text-content']\"):\n",
    "        full_reviews.append(i.text)\n",
    "    for j in driver.find_elements_by_xpath(\"//div[@class='a-row']/a/i/span [@class='a-icon-alt']\"):\n",
    "        ratings.append(j.get_attribute('innerHTML').split(' ')[0])\n",
    "    try:\n",
    "        driver.find_element_by_xpath(\"//ul[@class='a-pagination']/li[2]/a\").click()\n",
    "        time.sleep(1)\n",
    "    except:\n",
    "        break"
   ]
  },
  {
   "cell_type": "code",
   "execution_count": 86,
   "metadata": {},
   "outputs": [
    {
     "data": {
      "text/plain": [
       "(607, 607)"
      ]
     },
     "execution_count": 86,
     "metadata": {},
     "output_type": "execute_result"
    }
   ],
   "source": [
    "#checking length of scrapped reviews and ratings\n",
    "\n",
    "len(ratings),len(full_reviews)"
   ]
  },
  {
   "cell_type": "code",
   "execution_count": 87,
   "metadata": {},
   "outputs": [],
   "source": [
    "#creating dataframe for the scrapped reviews and ratings.\n",
    "\n",
    "prod_df7 = pd.DataFrame({'ratings':ratings,'full_reviews':full_reviews})"
   ]
  },
  {
   "cell_type": "code",
   "execution_count": 88,
   "metadata": {},
   "outputs": [
    {
     "data": {
      "text/plain": [
       "3.0    607\n",
       "Name: ratings, dtype: int64"
      ]
     },
     "execution_count": 88,
     "metadata": {},
     "output_type": "execute_result"
    }
   ],
   "source": [
    "prod_df7['ratings'].value_counts()"
   ]
  },
  {
   "cell_type": "raw",
   "metadata": {},
   "source": [
    "We got 607  \"3 star rating\" reviews with ratings. "
   ]
  },
  {
   "cell_type": "code",
   "execution_count": null,
   "metadata": {},
   "outputs": [],
   "source": []
  },
  {
   "cell_type": "code",
   "execution_count": 89,
   "metadata": {},
   "outputs": [],
   "source": [
    "#Now we will scrap for 2 star rating reviews\n",
    "\n",
    "driver.find_element_by_xpath(\"(//table[@class='a-normal a-align-center a-spacing-base']/tbody/tr[4]/td/span/a)[1]\").click()"
   ]
  },
  {
   "cell_type": "code",
   "execution_count": 90,
   "metadata": {},
   "outputs": [],
   "source": [
    "#creating reviews and ratings empty list\n",
    "\n",
    "full_reviews=[]\n",
    "ratings=[]"
   ]
  },
  {
   "cell_type": "code",
   "execution_count": 91,
   "metadata": {},
   "outputs": [],
   "source": [
    "#scrapping reviews\n",
    "for a in driver.find_elements_by_xpath(\"//span[@class='a-size-base review-text review-text-content']\"):\n",
    "    full_reviews.append(a.text)\n",
    "    \n",
    "#scrapping ratings\n",
    "for b in driver.find_elements_by_xpath(\"//div[@class='a-row']/a/i/span [@class='a-icon-alt']\"):\n",
    "    ratings.append(b.get_attribute('innerHTML').split(' ')[0])\n",
    "time.sleep(1)\n",
    "    #clciking on second page for reviews\n",
    "driver.find_element_by_xpath(\"//ul[@class='a-pagination']/li[2]/a\").click()\n",
    "time.sleep(2)\n",
    "    # running loop till the end of pages of all reviews\n",
    "while True:\n",
    "    time.sleep(2)\n",
    "    for i in driver.find_elements_by_xpath(\"//span[@class='a-size-base review-text review-text-content']\"):\n",
    "        full_reviews.append(i.text)\n",
    "    for j in driver.find_elements_by_xpath(\"//div[@class='a-row']/a/i/span [@class='a-icon-alt']\"):\n",
    "        ratings.append(j.get_attribute('innerHTML').split(' ')[0])\n",
    "    try:\n",
    "        driver.find_element_by_xpath(\"//ul[@class='a-pagination']/li[2]/a\").click()\n",
    "        time.sleep(1)\n",
    "    except:\n",
    "        break"
   ]
  },
  {
   "cell_type": "code",
   "execution_count": 92,
   "metadata": {},
   "outputs": [
    {
     "data": {
      "text/plain": [
       "(398, 398)"
      ]
     },
     "execution_count": 92,
     "metadata": {},
     "output_type": "execute_result"
    }
   ],
   "source": [
    "#checking length of scrapped reviews and ratings\n",
    "\n",
    "len(ratings),len(full_reviews)"
   ]
  },
  {
   "cell_type": "code",
   "execution_count": 93,
   "metadata": {},
   "outputs": [],
   "source": [
    "#creating dataframe for the scrapped reviews and ratings.\n",
    "\n",
    "prod_df8 = pd.DataFrame({'ratings':ratings,'full_reviews':full_reviews})"
   ]
  },
  {
   "cell_type": "code",
   "execution_count": 94,
   "metadata": {},
   "outputs": [
    {
     "data": {
      "text/plain": [
       "2.0    398\n",
       "Name: ratings, dtype: int64"
      ]
     },
     "execution_count": 94,
     "metadata": {},
     "output_type": "execute_result"
    }
   ],
   "source": [
    "prod_df8['ratings'].value_counts()"
   ]
  },
  {
   "cell_type": "raw",
   "metadata": {},
   "source": [
    "We got 398 \"2 star ratings\""
   ]
  },
  {
   "cell_type": "code",
   "execution_count": null,
   "metadata": {},
   "outputs": [],
   "source": []
  },
  {
   "cell_type": "code",
   "execution_count": 95,
   "metadata": {},
   "outputs": [],
   "source": [
    "#Now we will scrap 5 star rating reviews\n",
    "\n",
    "driver.find_element_by_xpath(\"(//table[@class='a-normal a-align-center a-spacing-base']/tbody/tr[1]/td/span/a)[1]\").click()"
   ]
  },
  {
   "cell_type": "code",
   "execution_count": 96,
   "metadata": {},
   "outputs": [],
   "source": [
    "#creating emplty list for reviews and ratings. \n",
    "\n",
    "full_reviews=[]\n",
    "ratings=[]"
   ]
  },
  {
   "cell_type": "code",
   "execution_count": 97,
   "metadata": {},
   "outputs": [],
   "source": [
    "#scrapping reviews\n",
    "for a in driver.find_elements_by_xpath(\"//span[@class='a-size-base review-text review-text-content']\"):\n",
    "    full_reviews.append(a.text)\n",
    "#scrapping ratings\n",
    "for b in driver.find_elements_by_xpath(\"//div[@class='a-row']/a/i/span [@class='a-icon-alt']\"):\n",
    "    ratings.append(b.get_attribute('innerHTML').split(' ')[0])\n",
    "time.sleep(1)\n",
    "    #clciking on second page for reviews\n",
    "driver.find_element_by_xpath(\"//ul[@class='a-pagination']/li[2]/a\").click()\n",
    "time.sleep(2)\n",
    "    # running loop till the end of pages of all reviews\n",
    "while True:\n",
    "    time.sleep(2)\n",
    "    for i in driver.find_elements_by_xpath(\"//span[@class='a-size-base review-text review-text-content']\"):\n",
    "        full_reviews.append(i.text)\n",
    "    for j in driver.find_elements_by_xpath(\"//div[@class='a-row']/a/i/span [@class='a-icon-alt']\"):\n",
    "        ratings.append(j.get_attribute('innerHTML').split(' ')[0])\n",
    "    try:\n",
    "        driver.find_element_by_xpath(\"//ul[@class='a-pagination']/li[2]/a\").click()\n",
    "        time.sleep(1)\n",
    "    except:\n",
    "        break"
   ]
  },
  {
   "cell_type": "code",
   "execution_count": 98,
   "metadata": {},
   "outputs": [
    {
     "data": {
      "text/plain": [
       "(2236, 2236)"
      ]
     },
     "execution_count": 98,
     "metadata": {},
     "output_type": "execute_result"
    }
   ],
   "source": [
    "#checking length of scrapped reviews and ratings\n",
    "\n",
    "len(ratings),len(full_reviews)"
   ]
  },
  {
   "cell_type": "code",
   "execution_count": 99,
   "metadata": {},
   "outputs": [],
   "source": [
    "#creating dataframe for the scrapped reviews and ratings.\n",
    "\n",
    "prod_df9 = pd.DataFrame({'ratings':ratings,'full_reviews':full_reviews})"
   ]
  },
  {
   "cell_type": "code",
   "execution_count": 100,
   "metadata": {},
   "outputs": [
    {
     "data": {
      "text/plain": [
       "5.0    2236\n",
       "Name: ratings, dtype: int64"
      ]
     },
     "execution_count": 100,
     "metadata": {},
     "output_type": "execute_result"
    }
   ],
   "source": [
    "prod_df9['ratings'].value_counts()"
   ]
  },
  {
   "cell_type": "raw",
   "metadata": {},
   "source": [
    "We got 2236 \"5 star ratings\". "
   ]
  },
  {
   "cell_type": "code",
   "execution_count": null,
   "metadata": {},
   "outputs": [],
   "source": []
  },
  {
   "cell_type": "code",
   "execution_count": null,
   "metadata": {},
   "outputs": [],
   "source": [
    "#Now we will concatinate(join) all the scrapped data into one data frame."
   ]
  },
  {
   "cell_type": "code",
   "execution_count": 101,
   "metadata": {},
   "outputs": [],
   "source": [
    "df = pd.concat( [prod_df9, prod_df8, prod_df7, prod_df6, prod_df5, prod_df4, prod_df3 ], axis=0) "
   ]
  },
  {
   "cell_type": "code",
   "execution_count": 102,
   "metadata": {},
   "outputs": [
    {
     "data": {
      "text/html": [
       "<div>\n",
       "<style scoped>\n",
       "    .dataframe tbody tr th:only-of-type {\n",
       "        vertical-align: middle;\n",
       "    }\n",
       "\n",
       "    .dataframe tbody tr th {\n",
       "        vertical-align: top;\n",
       "    }\n",
       "\n",
       "    .dataframe thead th {\n",
       "        text-align: right;\n",
       "    }\n",
       "</style>\n",
       "<table border=\"1\" class=\"dataframe\">\n",
       "  <thead>\n",
       "    <tr style=\"text-align: right;\">\n",
       "      <th></th>\n",
       "      <th>ratings</th>\n",
       "      <th>full_reviews</th>\n",
       "    </tr>\n",
       "  </thead>\n",
       "  <tbody>\n",
       "    <tr>\n",
       "      <th>0</th>\n",
       "      <td>5.0</td>\n",
       "      <td>Nice product. As usual printing cost will be h...</td>\n",
       "    </tr>\n",
       "    <tr>\n",
       "      <th>1</th>\n",
       "      <td>5.0</td>\n",
       "      <td>FIrst of all a big thanks to Amazon for quick ...</td>\n",
       "    </tr>\n",
       "    <tr>\n",
       "      <th>2</th>\n",
       "      <td>5.0</td>\n",
       "      <td>Got New and good working Product,if you don't ...</td>\n",
       "    </tr>\n",
       "    <tr>\n",
       "      <th>3</th>\n",
       "      <td>5.0</td>\n",
       "      <td>All in One printer which will scan,print and c...</td>\n",
       "    </tr>\n",
       "    <tr>\n",
       "      <th>4</th>\n",
       "      <td>5.0</td>\n",
       "      <td>I luv this i really luv the colour print its e...</td>\n",
       "    </tr>\n",
       "  </tbody>\n",
       "</table>\n",
       "</div>"
      ],
      "text/plain": [
       "  ratings                                       full_reviews\n",
       "0     5.0  Nice product. As usual printing cost will be h...\n",
       "1     5.0  FIrst of all a big thanks to Amazon for quick ...\n",
       "2     5.0  Got New and good working Product,if you don't ...\n",
       "3     5.0  All in One printer which will scan,print and c...\n",
       "4     5.0  I luv this i really luv the colour print its e..."
      ]
     },
     "execution_count": 102,
     "metadata": {},
     "output_type": "execute_result"
    }
   ],
   "source": [
    "df.head()"
   ]
  },
  {
   "cell_type": "code",
   "execution_count": 103,
   "metadata": {},
   "outputs": [
    {
     "data": {
      "text/plain": [
       "(13724, 2)"
      ]
     },
     "execution_count": 103,
     "metadata": {},
     "output_type": "execute_result"
    }
   ],
   "source": [
    "df.shape"
   ]
  },
  {
   "cell_type": "code",
   "execution_count": 104,
   "metadata": {},
   "outputs": [
    {
     "data": {
      "text/plain": [
       "5      4135\n",
       "5.0    2236\n",
       "1.0    1920\n",
       "4      1414\n",
       "4.0    1139\n",
       "1      1094\n",
       "3.0     607\n",
       "3       520\n",
       "2.0     398\n",
       "2       261\n",
       "Name: ratings, dtype: int64"
      ]
     },
     "execution_count": 104,
     "metadata": {},
     "output_type": "execute_result"
    }
   ],
   "source": [
    "df['ratings'].value_counts()"
   ]
  },
  {
   "cell_type": "raw",
   "metadata": {},
   "source": [
    "We can see that 5,5.0, 4,4.0,3,3.0,2,2.0,1,1.0 ratings this is because we scrapped data from 2 different websites where flipkart provides integer format and amazon provided float format rating.So, we will replace the values like \"5.0 as 5, 4.0 as 4 etc..\" "
   ]
  },
  {
   "cell_type": "code",
   "execution_count": 137,
   "metadata": {},
   "outputs": [],
   "source": [
    "df['ratings'].replace({'5.0':'5','4.0':'4','3.0':'3','2.0':'2','1.0':'1'},inplace=True)"
   ]
  },
  {
   "cell_type": "code",
   "execution_count": 138,
   "metadata": {},
   "outputs": [
    {
     "data": {
      "text/plain": [
       "5    6371\n",
       "1    3014\n",
       "4    2553\n",
       "3    1127\n",
       "2     659\n",
       "Name: ratings, dtype: int64"
      ]
     },
     "execution_count": 138,
     "metadata": {},
     "output_type": "execute_result"
    }
   ],
   "source": [
    "df['ratings'].value_counts()"
   ]
  },
  {
   "cell_type": "raw",
   "metadata": {},
   "source": [
    "Till now we got 6371, \"5 star rating\" reviews, 2553 \"4 star rating\",1127 \"3 star rating\", 659 \"2 star rating\", 3014 \"1 star rating\". \n"
   ]
  },
  {
   "cell_type": "code",
   "execution_count": null,
   "metadata": {},
   "outputs": [],
   "source": []
  },
  {
   "cell_type": "markdown",
   "metadata": {},
   "source": [
    "4Th product"
   ]
  },
  {
   "cell_type": "code",
   "execution_count": 142,
   "metadata": {},
   "outputs": [],
   "source": [
    "##Opening Pansonic smart phone from amazon.in website\n",
    "\n",
    "driver.get('https://www.amazon.in/Panasonic-Storage-Finger-4000mAh-Battery/dp/B08BV2T63X/ref=sr_1_8?dchild=1&keywords=smartphones&qid=1627668069&sr=8-8')"
   ]
  },
  {
   "cell_type": "code",
   "execution_count": 143,
   "metadata": {},
   "outputs": [],
   "source": [
    "#Clicking on product ratings option\n",
    "\n",
    "driver.find_element_by_id(\"acrCustomerReviewText\").click()"
   ]
  },
  {
   "cell_type": "code",
   "execution_count": 144,
   "metadata": {},
   "outputs": [],
   "source": [
    "#Clicking on \"See all review\" option.\n",
    "\n",
    "driver.find_element_by_xpath(\"//a[@class='a-link-emphasis a-text-bold']\").click()"
   ]
  },
  {
   "cell_type": "code",
   "execution_count": 145,
   "metadata": {},
   "outputs": [],
   "source": [
    "#clicking on \"4 star\" rating reviews\n",
    "\n",
    "driver.find_element_by_xpath(\"(//table[@class='a-normal a-align-center a-spacing-base']/tbody/tr[2]/td/span/a)[1]\").click()"
   ]
  },
  {
   "cell_type": "code",
   "execution_count": 146,
   "metadata": {},
   "outputs": [],
   "source": [
    "#creating reviews and ratings empty list\n",
    "\n",
    "full_reviews=[]\n",
    "ratings=[]"
   ]
  },
  {
   "cell_type": "code",
   "execution_count": 147,
   "metadata": {},
   "outputs": [],
   "source": [
    "#scrapping for reviews.\n",
    "for a in driver.find_elements_by_xpath(\"//span[@class='a-size-base review-text review-text-content']\"):\n",
    "    full_reviews.append(a.text)\n",
    "    \n",
    "#scrapping for ratings.\n",
    "for b in driver.find_elements_by_xpath(\"//div[@class='a-row']/a/i/span [@class='a-icon-alt']\"):\n",
    "    ratings.append(b.get_attribute('innerHTML').split(' ')[0])\n",
    "time.sleep(1)\n",
    "    #clciking on second page for reviews\n",
    "driver.find_element_by_xpath(\"//ul[@class='a-pagination']/li[2]/a\").click()\n",
    "time.sleep(2)\n",
    "    # running loop till the end of pages of all reviews\n",
    "while True:\n",
    "    time.sleep(2)\n",
    "    for i in driver.find_elements_by_xpath(\"//span[@class='a-size-base review-text review-text-content']\"):\n",
    "        full_reviews.append(i.text)\n",
    "    for j in driver.find_elements_by_xpath(\"//div[@class='a-row']/a/i/span [@class='a-icon-alt']\"):\n",
    "        ratings.append(j.get_attribute('innerHTML').split(' ')[0])\n",
    "    try:\n",
    "        driver.find_element_by_xpath(\"//ul[@class='a-pagination']/li[2]/a\").click()\n",
    "        time.sleep(1)\n",
    "    except:\n",
    "        break"
   ]
  },
  {
   "cell_type": "code",
   "execution_count": 148,
   "metadata": {},
   "outputs": [
    {
     "data": {
      "text/plain": [
       "(168, 168)"
      ]
     },
     "execution_count": 148,
     "metadata": {},
     "output_type": "execute_result"
    }
   ],
   "source": [
    "##checking length of scrapped reviews and ratings\n",
    "\n",
    "len(full_reviews),len(ratings)"
   ]
  },
  {
   "cell_type": "code",
   "execution_count": 149,
   "metadata": {},
   "outputs": [],
   "source": [
    "#creating data frame for the scrapped data.\n",
    "\n",
    "prod_df11 = pd.DataFrame({'ratings':ratings,'full_reviews':full_reviews})"
   ]
  },
  {
   "cell_type": "code",
   "execution_count": 150,
   "metadata": {},
   "outputs": [
    {
     "data": {
      "text/plain": [
       "4.0    168\n",
       "Name: ratings, dtype: int64"
      ]
     },
     "execution_count": 150,
     "metadata": {},
     "output_type": "execute_result"
    }
   ],
   "source": [
    "prod_df11['ratings'].value_counts()"
   ]
  },
  {
   "cell_type": "raw",
   "metadata": {},
   "source": [
    "We got 168 \"4 star rating\" reviews."
   ]
  },
  {
   "cell_type": "code",
   "execution_count": null,
   "metadata": {},
   "outputs": [],
   "source": []
  },
  {
   "cell_type": "code",
   "execution_count": 151,
   "metadata": {},
   "outputs": [],
   "source": [
    "#now we will scrap \"3 star\" ratings\n",
    "\n",
    "driver.find_element_by_xpath(\"(//table[@class='a-normal a-align-center a-spacing-base']/tbody/tr[3]/td/span/a)[1]\").click()"
   ]
  },
  {
   "cell_type": "code",
   "execution_count": 152,
   "metadata": {},
   "outputs": [],
   "source": [
    "#creating reviews and ratings empty list\n",
    "\n",
    "full_reviews=[]\n",
    "ratings=[]"
   ]
  },
  {
   "cell_type": "code",
   "execution_count": 153,
   "metadata": {},
   "outputs": [],
   "source": [
    "#scrapping reviews\n",
    "for a in driver.find_elements_by_xpath(\"//span[@class='a-size-base review-text review-text-content']\"):\n",
    "    full_reviews.append(a.text)\n",
    "    \n",
    "#scrapping ratings\n",
    "for b in driver.find_elements_by_xpath(\"//div[@class='a-row']/a/i/span [@class='a-icon-alt']\"):\n",
    "    ratings.append(b.get_attribute('innerHTML').split(' ')[0])\n",
    "time.sleep(1)\n",
    "    #clciking on second page for reviews\n",
    "driver.find_element_by_xpath(\"//ul[@class='a-pagination']/li[2]/a\").click()\n",
    "time.sleep(2)\n",
    "    # running loop till the end of pages of all reviews\n",
    "while True:\n",
    "    time.sleep(2)\n",
    "    for i in driver.find_elements_by_xpath(\"//span[@class='a-size-base review-text review-text-content']\"):\n",
    "        full_reviews.append(i.text)\n",
    "    for j in driver.find_elements_by_xpath(\"//div[@class='a-row']/a/i/span [@class='a-icon-alt']\"):\n",
    "        ratings.append(j.get_attribute('innerHTML').split(' ')[0])\n",
    "    try:\n",
    "        driver.find_element_by_xpath(\"//ul[@class='a-pagination']/li[2]/a\").click()\n",
    "        time.sleep(1)\n",
    "    except:\n",
    "        break"
   ]
  },
  {
   "cell_type": "code",
   "execution_count": 154,
   "metadata": {},
   "outputs": [
    {
     "data": {
      "text/plain": [
       "(106, 106)"
      ]
     },
     "execution_count": 154,
     "metadata": {},
     "output_type": "execute_result"
    }
   ],
   "source": [
    "##checking length of scrapped reviews and ratings\n",
    "\n",
    "len(full_reviews),len(ratings)"
   ]
  },
  {
   "cell_type": "code",
   "execution_count": 155,
   "metadata": {},
   "outputs": [],
   "source": [
    "#creating data frame for the scrapped data\n",
    "\n",
    "prod_df12 = pd.DataFrame({'ratings':ratings,'full_reviews':full_reviews})"
   ]
  },
  {
   "cell_type": "code",
   "execution_count": 156,
   "metadata": {},
   "outputs": [
    {
     "data": {
      "text/plain": [
       "3.0    106\n",
       "Name: ratings, dtype: int64"
      ]
     },
     "execution_count": 156,
     "metadata": {},
     "output_type": "execute_result"
    }
   ],
   "source": [
    "prod_df12['ratings'].value_counts()"
   ]
  },
  {
   "cell_type": "raw",
   "metadata": {},
   "source": [
    "We got 106 \"3 star rating\" reviews."
   ]
  },
  {
   "cell_type": "code",
   "execution_count": null,
   "metadata": {},
   "outputs": [],
   "source": []
  },
  {
   "cell_type": "code",
   "execution_count": 157,
   "metadata": {},
   "outputs": [],
   "source": [
    "#now we will scrap \"2 star\" rating reviews for the same product\n",
    "\n",
    "driver.find_element_by_xpath(\"(//table[@class='a-normal a-align-center a-spacing-base']/tbody/tr[4]/td/span/a)[1]\").click()"
   ]
  },
  {
   "cell_type": "code",
   "execution_count": 158,
   "metadata": {},
   "outputs": [],
   "source": [
    "#creating revews and ratings empty list\n",
    "\n",
    "full_reviews=[]\n",
    "ratings=[]"
   ]
  },
  {
   "cell_type": "code",
   "execution_count": 159,
   "metadata": {},
   "outputs": [],
   "source": [
    "#scrapping for reviews\n",
    "\n",
    "for a in driver.find_elements_by_xpath(\"//span[@class='a-size-base review-text review-text-content']\"):\n",
    "    full_reviews.append(a.text)\n",
    "    \n",
    "#scrapping for ratings\n",
    "for b in driver.find_elements_by_xpath(\"//div[@class='a-row']/a/i/span [@class='a-icon-alt']\"):\n",
    "    ratings.append(b.get_attribute('innerHTML').split(' ')[0])\n",
    "time.sleep(1)\n",
    "    #clciking on second page for reviews\n",
    "driver.find_element_by_xpath(\"//ul[@class='a-pagination']/li[2]/a\").click()\n",
    "time.sleep(2)\n",
    "    # running loop till the end of pages of all reviews\n",
    "while True:\n",
    "    time.sleep(2)\n",
    "    for i in driver.find_elements_by_xpath(\"//span[@class='a-size-base review-text review-text-content']\"):\n",
    "        full_reviews.append(i.text)\n",
    "    for j in driver.find_elements_by_xpath(\"//div[@class='a-row']/a/i/span [@class='a-icon-alt']\"):\n",
    "        ratings.append(j.get_attribute('innerHTML').split(' ')[0])\n",
    "    try:\n",
    "        driver.find_element_by_xpath(\"//ul[@class='a-pagination']/li[2]/a\").click()\n",
    "        time.sleep(1)\n",
    "    except:\n",
    "        break"
   ]
  },
  {
   "cell_type": "code",
   "execution_count": 160,
   "metadata": {},
   "outputs": [
    {
     "data": {
      "text/plain": [
       "(129, 129)"
      ]
     },
     "execution_count": 160,
     "metadata": {},
     "output_type": "execute_result"
    }
   ],
   "source": [
    "#checking length of scrapped reviews and ratings\n",
    "\n",
    "len(full_reviews),len(ratings)"
   ]
  },
  {
   "cell_type": "code",
   "execution_count": 161,
   "metadata": {},
   "outputs": [],
   "source": [
    "#creating dataframe for the scrapped reviews and ratings.\n",
    "\n",
    "prod_df13 = pd.DataFrame({'ratings':ratings,'full_reviews':full_reviews})"
   ]
  },
  {
   "cell_type": "code",
   "execution_count": 162,
   "metadata": {},
   "outputs": [
    {
     "data": {
      "text/plain": [
       "2.0    129\n",
       "Name: ratings, dtype: int64"
      ]
     },
     "execution_count": 162,
     "metadata": {},
     "output_type": "execute_result"
    }
   ],
   "source": [
    "prod_df13['ratings'].value_counts()"
   ]
  },
  {
   "cell_type": "raw",
   "metadata": {},
   "source": [
    "We got 129 \"2 star\" rating reviews."
   ]
  },
  {
   "cell_type": "code",
   "execution_count": null,
   "metadata": {},
   "outputs": [],
   "source": []
  },
  {
   "cell_type": "code",
   "execution_count": 163,
   "metadata": {},
   "outputs": [],
   "source": [
    "#Now we will scrap 1 star rating reviews for same product\n",
    "\n",
    "driver.find_element_by_xpath(\"(//table[@class='a-normal a-align-center a-spacing-base']/tbody/tr[5]/td/span/a)[1]\").click()"
   ]
  },
  {
   "cell_type": "code",
   "execution_count": 164,
   "metadata": {},
   "outputs": [],
   "source": [
    "#creating empty list for reviews and ratings.\n",
    "\n",
    "full_reviews=[]\n",
    "ratings=[]"
   ]
  },
  {
   "cell_type": "code",
   "execution_count": 165,
   "metadata": {},
   "outputs": [],
   "source": [
    "#scrapping for reviews\n",
    "for a in driver.find_elements_by_xpath(\"//span[@class='a-size-base review-text review-text-content']\"):\n",
    "    full_reviews.append(a.text)\n",
    "    \n",
    "#scrapping for ratings\n",
    "for b in driver.find_elements_by_xpath(\"//div[@class='a-row']/a/i/span [@class='a-icon-alt']\"):\n",
    "    ratings.append(b.get_attribute('innerHTML').split(' ')[0])\n",
    "time.sleep(1)\n",
    "    #clciking on second page for reviews\n",
    "driver.find_element_by_xpath(\"//ul[@class='a-pagination']/li[2]/a\").click()\n",
    "time.sleep(2)\n",
    "    # running loop till the end of pages of all reviews\n",
    "while True:\n",
    "    time.sleep(2)\n",
    "    for i in driver.find_elements_by_xpath(\"//span[@class='a-size-base review-text review-text-content']\"):\n",
    "        full_reviews.append(i.text)\n",
    "    for j in driver.find_elements_by_xpath(\"//div[@class='a-row']/a/i/span [@class='a-icon-alt']\"):\n",
    "        ratings.append(j.get_attribute('innerHTML').split(' ')[0])\n",
    "    try:\n",
    "        driver.find_element_by_xpath(\"//ul[@class='a-pagination']/li[2]/a\").click()\n",
    "        time.sleep(1)\n",
    "    except:\n",
    "        break"
   ]
  },
  {
   "cell_type": "code",
   "execution_count": 166,
   "metadata": {},
   "outputs": [
    {
     "data": {
      "text/plain": [
       "(709, 709)"
      ]
     },
     "execution_count": 166,
     "metadata": {},
     "output_type": "execute_result"
    }
   ],
   "source": [
    "#checking length of scrapped reviews and ratings\n",
    "\n",
    "len(full_reviews),len(ratings)"
   ]
  },
  {
   "cell_type": "code",
   "execution_count": 167,
   "metadata": {},
   "outputs": [],
   "source": [
    "#creating dataframe for the scrapped reviews and ratings.\n",
    "\n",
    "prod_df14 = pd.DataFrame({'ratings':ratings,'full_reviews':full_reviews})"
   ]
  },
  {
   "cell_type": "code",
   "execution_count": 168,
   "metadata": {},
   "outputs": [
    {
     "data": {
      "text/plain": [
       "1.0    709\n",
       "Name: ratings, dtype: int64"
      ]
     },
     "execution_count": 168,
     "metadata": {},
     "output_type": "execute_result"
    }
   ],
   "source": [
    "prod_df14['ratings'].value_counts()"
   ]
  },
  {
   "cell_type": "raw",
   "metadata": {},
   "source": [
    "Now we got 709 \"1 star\" rating reviews. "
   ]
  },
  {
   "cell_type": "code",
   "execution_count": 169,
   "metadata": {},
   "outputs": [],
   "source": [
    "#Now we will concatinate the scrapped data.\n",
    "\n",
    "df1 = pd.concat( [prod_df11, prod_df12, prod_df13, prod_df14], axis=0) "
   ]
  },
  {
   "cell_type": "code",
   "execution_count": 170,
   "metadata": {},
   "outputs": [
    {
     "data": {
      "text/plain": [
       "1.0    709\n",
       "4.0    168\n",
       "2.0    129\n",
       "3.0    106\n",
       "Name: ratings, dtype: int64"
      ]
     },
     "execution_count": 170,
     "metadata": {},
     "output_type": "execute_result"
    }
   ],
   "source": [
    "df1['ratings'].value_counts()"
   ]
  },
  {
   "cell_type": "code",
   "execution_count": 171,
   "metadata": {},
   "outputs": [],
   "source": [
    "df1['ratings'].replace({'5.0':'5','4.0':'4','3.0':'3','2.0':'2','1.0':'1'},inplace=True)"
   ]
  },
  {
   "cell_type": "code",
   "execution_count": 172,
   "metadata": {},
   "outputs": [
    {
     "data": {
      "text/plain": [
       "1    709\n",
       "4    168\n",
       "2    129\n",
       "3    106\n",
       "Name: ratings, dtype: int64"
      ]
     },
     "execution_count": 172,
     "metadata": {},
     "output_type": "execute_result"
    }
   ],
   "source": [
    "df1['ratings'].value_counts()"
   ]
  },
  {
   "cell_type": "code",
   "execution_count": null,
   "metadata": {},
   "outputs": [],
   "source": []
  },
  {
   "cell_type": "code",
   "execution_count": 173,
   "metadata": {},
   "outputs": [],
   "source": [
    "#we will join already concatenated two data frames\n",
    "\n",
    "df3 = pd.concat( [df,df1], axis=0) "
   ]
  },
  {
   "cell_type": "code",
   "execution_count": 174,
   "metadata": {},
   "outputs": [
    {
     "data": {
      "text/plain": [
       "(14836, 2)"
      ]
     },
     "execution_count": 174,
     "metadata": {},
     "output_type": "execute_result"
    }
   ],
   "source": [
    "df3.shape"
   ]
  },
  {
   "cell_type": "code",
   "execution_count": 175,
   "metadata": {},
   "outputs": [
    {
     "data": {
      "text/plain": [
       "5    6371\n",
       "1    3723\n",
       "4    2721\n",
       "3    1233\n",
       "2     788\n",
       "Name: ratings, dtype: int64"
      ]
     },
     "execution_count": 175,
     "metadata": {},
     "output_type": "execute_result"
    }
   ],
   "source": [
    "df3['ratings'].value_counts()"
   ]
  },
  {
   "cell_type": "code",
   "execution_count": null,
   "metadata": {},
   "outputs": [],
   "source": []
  },
  {
   "cell_type": "markdown",
   "metadata": {},
   "source": [
    "5th Product"
   ]
  },
  {
   "cell_type": "code",
   "execution_count": 211,
   "metadata": {},
   "outputs": [],
   "source": [
    "#Opening Redmi 9A smart phone from Amazon website\n",
    "\n",
    "driver.get(\"https://www.amazon.in/Redmi-9A-Midnight-2GB-32GB/dp/B08697N43G/ref=sr_1_9?dchild=1&keywords=smartphones&qid=1627668069&sr=8-9\")"
   ]
  },
  {
   "cell_type": "code",
   "execution_count": 212,
   "metadata": {},
   "outputs": [],
   "source": [
    "#Clicking on product ratings option\n",
    "\n",
    "driver.find_element_by_id(\"acrCustomerReviewText\").click()"
   ]
  },
  {
   "cell_type": "code",
   "execution_count": 213,
   "metadata": {},
   "outputs": [],
   "source": [
    "#clicking on \"See all review\" option.\n",
    "\n",
    "driver.find_element_by_xpath(\"//a[@class='a-link-emphasis a-text-bold']\").click()"
   ]
  },
  {
   "cell_type": "code",
   "execution_count": 214,
   "metadata": {},
   "outputs": [],
   "source": [
    "#scrapping \"1 star\" rating reviews.\n",
    "\n",
    "driver.find_element_by_xpath(\"(//table[@class='a-normal a-align-center a-spacing-base']/tbody/tr[5]/td/span/a)[1]\").click()"
   ]
  },
  {
   "cell_type": "code",
   "execution_count": 215,
   "metadata": {},
   "outputs": [],
   "source": [
    "#creating reviews and rating empty list\n",
    "\n",
    "full_reviews=[]\n",
    "ratings=[]"
   ]
  },
  {
   "cell_type": "code",
   "execution_count": 216,
   "metadata": {},
   "outputs": [],
   "source": [
    "#scrapping reviews\n",
    "for a in driver.find_elements_by_xpath(\"//span[@class='a-size-base review-text review-text-content']\"):\n",
    "    full_reviews.append(a.text)\n",
    "    \n",
    "#scrapping ratings\n",
    "for b in driver.find_elements_by_xpath(\"//div[@class='a-row']/a/i/span [@class='a-icon-alt']\"):\n",
    "    ratings.append(b.get_attribute('innerHTML').split(' ')[0])\n",
    "time.sleep(1)\n",
    "    #clciking on second page for reviews\n",
    "driver.find_element_by_xpath(\"//ul[@class='a-pagination']/li[2]/a\").click()\n",
    "time.sleep(2)\n",
    "    # running loop till the end of pages of all reviews\n",
    "while True:\n",
    "    time.sleep(3)\n",
    "    for i in driver.find_elements_by_xpath(\"//span[@class='a-size-base review-text review-text-content']\"):\n",
    "        full_reviews.append(i.text)\n",
    "    for j in driver.find_elements_by_xpath(\"//div[@class='a-row']/a/i/span [@class='a-icon-alt']\"):\n",
    "        ratings.append(j.get_attribute('innerHTML').split(' ')[0])\n",
    "    try:\n",
    "        driver.find_element_by_xpath(\"//ul[@class='a-pagination']/li[2]/a\").click()\n",
    "        time.sleep(2)\n",
    "    except:\n",
    "        break"
   ]
  },
  {
   "cell_type": "code",
   "execution_count": 217,
   "metadata": {},
   "outputs": [
    {
     "data": {
      "text/plain": [
       "(1221, 1221)"
      ]
     },
     "execution_count": 217,
     "metadata": {},
     "output_type": "execute_result"
    }
   ],
   "source": [
    "#checking length of scrapped reviews and ratings\n",
    "\n",
    "len(full_reviews),len(ratings)"
   ]
  },
  {
   "cell_type": "code",
   "execution_count": 218,
   "metadata": {},
   "outputs": [],
   "source": [
    "#creating dataframe for the scrapped reviews and ratings.\n",
    "\n",
    "prod_df15 = pd.DataFrame({'ratings':ratings,'full_reviews':full_reviews})"
   ]
  },
  {
   "cell_type": "code",
   "execution_count": 219,
   "metadata": {},
   "outputs": [
    {
     "data": {
      "text/plain": [
       "1.0    1221\n",
       "Name: ratings, dtype: int64"
      ]
     },
     "execution_count": 219,
     "metadata": {},
     "output_type": "execute_result"
    }
   ],
   "source": [
    "prod_df15['ratings'].value_counts()"
   ]
  },
  {
   "cell_type": "raw",
   "metadata": {},
   "source": [
    "We got 1221 \"1 star\" ratings reviews."
   ]
  },
  {
   "cell_type": "code",
   "execution_count": null,
   "metadata": {},
   "outputs": [],
   "source": []
  },
  {
   "cell_type": "code",
   "execution_count": 220,
   "metadata": {},
   "outputs": [],
   "source": [
    "#now we will scrap \"2 star\" rating reviews for the same product.\n",
    "\n",
    "driver.find_element_by_xpath(\"(//table[@class='a-normal a-align-center a-spacing-base']/tbody/tr[4]/td/span/a)[1]\").click()"
   ]
  },
  {
   "cell_type": "code",
   "execution_count": 221,
   "metadata": {},
   "outputs": [],
   "source": [
    "#creating reviews and ratings empty list.\n",
    "\n",
    "full_reviews=[]\n",
    "ratings=[]"
   ]
  },
  {
   "cell_type": "code",
   "execution_count": 222,
   "metadata": {},
   "outputs": [],
   "source": [
    "#scrapping for reviews\n",
    "for a in driver.find_elements_by_xpath(\"//span[@class='a-size-base review-text review-text-content']\"):\n",
    "    full_reviews.append(a.text)\n",
    "    \n",
    "#scrapping ratings\n",
    "for b in driver.find_elements_by_xpath(\"//div[@class='a-row']/a/i/span [@class='a-icon-alt']\"):\n",
    "    ratings.append(b.get_attribute('innerHTML').split(' ')[0])\n",
    "time.sleep(1)\n",
    "    #clciking on second page for reviews\n",
    "driver.find_element_by_xpath(\"//ul[@class='a-pagination']/li[2]/a\").click()\n",
    "time.sleep(2)\n",
    "    # running loop till the end of pages of all reviews\n",
    "while True:\n",
    "    time.sleep(3)\n",
    "    for i in driver.find_elements_by_xpath(\"//span[@class='a-size-base review-text review-text-content']\"):\n",
    "        full_reviews.append(i.text)\n",
    "    for j in driver.find_elements_by_xpath(\"//div[@class='a-row']/a/i/span [@class='a-icon-alt']\"):\n",
    "        ratings.append(j.get_attribute('innerHTML').split(' ')[0])\n",
    "    try:\n",
    "        driver.find_element_by_xpath(\"//ul[@class='a-pagination']/li[2]/a\").click()\n",
    "        time.sleep(2)\n",
    "    except:\n",
    "        break"
   ]
  },
  {
   "cell_type": "code",
   "execution_count": 223,
   "metadata": {},
   "outputs": [
    {
     "data": {
      "text/plain": [
       "(357, 357)"
      ]
     },
     "execution_count": 223,
     "metadata": {},
     "output_type": "execute_result"
    }
   ],
   "source": [
    "#checking length of scrapped reviews and ratings\n",
    "\n",
    "len(full_reviews),len(ratings)"
   ]
  },
  {
   "cell_type": "code",
   "execution_count": 224,
   "metadata": {},
   "outputs": [],
   "source": [
    "#creating dataframe for the scrapped reviews and ratings.\n",
    "\n",
    "prod_df16 = pd.DataFrame({'ratings':ratings,'full_reviews':full_reviews})"
   ]
  },
  {
   "cell_type": "code",
   "execution_count": 225,
   "metadata": {},
   "outputs": [
    {
     "data": {
      "text/plain": [
       "2.0    357\n",
       "Name: ratings, dtype: int64"
      ]
     },
     "execution_count": 225,
     "metadata": {},
     "output_type": "execute_result"
    }
   ],
   "source": [
    "prod_df16['ratings'].value_counts()"
   ]
  },
  {
   "cell_type": "raw",
   "metadata": {},
   "source": [
    "We got 357 \"2 star\" ratings reviews."
   ]
  },
  {
   "cell_type": "code",
   "execution_count": null,
   "metadata": {},
   "outputs": [],
   "source": []
  },
  {
   "cell_type": "code",
   "execution_count": 226,
   "metadata": {},
   "outputs": [],
   "source": [
    "#Now we will scrap \"3 star\" rating reviews from the same product \n",
    "driver.find_element_by_xpath(\"(//table[@class='a-normal a-align-center a-spacing-base']/tbody/tr[3]/td/span/a)[1]\").click()"
   ]
  },
  {
   "cell_type": "code",
   "execution_count": 227,
   "metadata": {},
   "outputs": [],
   "source": [
    "#creating empty list for reviews and ratings.\n",
    "\n",
    "full_reviews=[]\n",
    "ratings=[]"
   ]
  },
  {
   "cell_type": "code",
   "execution_count": 228,
   "metadata": {},
   "outputs": [],
   "source": [
    "#scrapping for reviews.\n",
    "for a in driver.find_elements_by_xpath(\"//span[@class='a-size-base review-text review-text-content']\"):\n",
    "    full_reviews.append(a.text)\n",
    "#scrapping ratings.\n",
    "for b in driver.find_elements_by_xpath(\"//div[@class='a-row']/a/i/span [@class='a-icon-alt']\"):\n",
    "    ratings.append(b.get_attribute('innerHTML').split(' ')[0])\n",
    "time.sleep(1)\n",
    "    #clciking on second page for reviews\n",
    "driver.find_element_by_xpath(\"//ul[@class='a-pagination']/li[2]/a\").click()\n",
    "time.sleep(2)\n",
    "    # running loop till the end of pages of all reviews\n",
    "while True:\n",
    "    time.sleep(3)\n",
    "    for i in driver.find_elements_by_xpath(\"//span[@class='a-size-base review-text review-text-content']\"):\n",
    "        full_reviews.append(i.text)\n",
    "    for j in driver.find_elements_by_xpath(\"//div[@class='a-row']/a/i/span [@class='a-icon-alt']\"):\n",
    "        ratings.append(j.get_attribute('innerHTML').split(' ')[0])\n",
    "    try:\n",
    "        driver.find_element_by_xpath(\"//ul[@class='a-pagination']/li[2]/a\").click()\n",
    "        time.sleep(2)\n",
    "    except:\n",
    "        break"
   ]
  },
  {
   "cell_type": "code",
   "execution_count": 229,
   "metadata": {},
   "outputs": [
    {
     "data": {
      "text/plain": [
       "(832, 832)"
      ]
     },
     "execution_count": 229,
     "metadata": {},
     "output_type": "execute_result"
    }
   ],
   "source": [
    "#checking length of scrapped reviews and ratings\n",
    "\n",
    "len(full_reviews),len(ratings)"
   ]
  },
  {
   "cell_type": "code",
   "execution_count": 230,
   "metadata": {},
   "outputs": [],
   "source": [
    "#creating dataframe for the scrapped reviews and ratings.\n",
    "\n",
    "prod_df17 = pd.DataFrame({'ratings':ratings,'full_reviews':full_reviews})"
   ]
  },
  {
   "cell_type": "code",
   "execution_count": 231,
   "metadata": {},
   "outputs": [
    {
     "data": {
      "text/plain": [
       "3.0    832\n",
       "Name: ratings, dtype: int64"
      ]
     },
     "execution_count": 231,
     "metadata": {},
     "output_type": "execute_result"
    }
   ],
   "source": [
    "prod_df17['ratings'].value_counts()"
   ]
  },
  {
   "cell_type": "raw",
   "metadata": {},
   "source": [
    "We got 832 \"2 star\" rating reviews."
   ]
  },
  {
   "cell_type": "code",
   "execution_count": null,
   "metadata": {},
   "outputs": [],
   "source": [
    "#Now we will concatenate the scrapped data"
   ]
  },
  {
   "cell_type": "code",
   "execution_count": 241,
   "metadata": {},
   "outputs": [],
   "source": [
    "df4= pd.concat( [df3, prod_df15, prod_df16, prod_df17], axis=0) "
   ]
  },
  {
   "cell_type": "code",
   "execution_count": 242,
   "metadata": {},
   "outputs": [
    {
     "data": {
      "text/plain": [
       "5      6371\n",
       "1      3723\n",
       "4      2721\n",
       "3      1233\n",
       "1.0    1221\n",
       "3.0     832\n",
       "2       788\n",
       "2.0     357\n",
       "Name: ratings, dtype: int64"
      ]
     },
     "execution_count": 242,
     "metadata": {},
     "output_type": "execute_result"
    }
   ],
   "source": [
    "df4['ratings'].value_counts()"
   ]
  },
  {
   "cell_type": "code",
   "execution_count": 243,
   "metadata": {},
   "outputs": [],
   "source": [
    "df4['ratings'].replace({'5.0':'5','4.0':'4','3.0':'3','2.0':'2','1.0':'1'},inplace=True)"
   ]
  },
  {
   "cell_type": "code",
   "execution_count": 244,
   "metadata": {},
   "outputs": [
    {
     "data": {
      "text/plain": [
       "5    6371\n",
       "1    4944\n",
       "4    2721\n",
       "3    2065\n",
       "2    1145\n",
       "Name: ratings, dtype: int64"
      ]
     },
     "execution_count": 244,
     "metadata": {},
     "output_type": "execute_result"
    }
   ],
   "source": [
    "df4['ratings'].value_counts()"
   ]
  },
  {
   "cell_type": "raw",
   "metadata": {},
   "source": [
    "Till now we got we scrapped 6371, \"5 star rating\" reviews, 2721 \"4 star rating\",2065 \"3 star rating\",1145 \"2 star rating\", 4944 \"1 star rating\". \n",
    "."
   ]
  },
  {
   "cell_type": "code",
   "execution_count": 247,
   "metadata": {},
   "outputs": [],
   "source": [
    "df4.to_csv(\"First_scraped_data.csv\")"
   ]
  },
  {
   "cell_type": "raw",
   "metadata": {},
   "source": [
    "We will save the data till now we scrapped in CSV format.  "
   ]
  },
  {
   "cell_type": "code",
   "execution_count": null,
   "metadata": {},
   "outputs": [],
   "source": []
  },
  {
   "cell_type": "markdown",
   "metadata": {},
   "source": [
    "6th Product."
   ]
  },
  {
   "cell_type": "code",
   "execution_count": 3,
   "metadata": {},
   "outputs": [],
   "source": [
    "#Opening NOISE smart watch from Amazon.in website\n",
    "\n",
    "driver.get(\"https://www.amazon.in/Noise-Colorfit-Pro-Touch-Control/dp/B07YY1BY5B/ref=sr_1_3?dchild=1&keywords=smart+watch&qid=1627680372&sr=8-3\")"
   ]
  },
  {
   "cell_type": "code",
   "execution_count": 4,
   "metadata": {},
   "outputs": [],
   "source": [
    "#Selecting product ratings option.\n",
    "\n",
    "driver.find_element_by_id(\"acrCustomerReviewText\").click()"
   ]
  },
  {
   "cell_type": "code",
   "execution_count": 5,
   "metadata": {},
   "outputs": [],
   "source": [
    "#Selecting \" See Full reviews\" option\n",
    "\n",
    "driver.find_element_by_xpath(\"//a[@class='a-link-emphasis a-text-bold']\").click()"
   ]
  },
  {
   "cell_type": "code",
   "execution_count": 6,
   "metadata": {},
   "outputs": [],
   "source": [
    "#we will scrap \"4 star\" rating reviews from the product.\n",
    "\n",
    "driver.find_element_by_xpath(\"(//table[@class='a-normal a-align-center a-spacing-base']/tbody/tr[2]/td/span/a)[1]\").click()"
   ]
  },
  {
   "cell_type": "code",
   "execution_count": 8,
   "metadata": {},
   "outputs": [],
   "source": [
    "#Creating empty list for reviews and ratings. \n",
    "full_reviews=[]\n",
    "ratings=[]"
   ]
  },
  {
   "cell_type": "code",
   "execution_count": 9,
   "metadata": {},
   "outputs": [],
   "source": [
    "#Scrapping for reviews. \n",
    "for a in driver.find_elements_by_xpath(\"//span[@class='a-size-base review-text review-text-content']\"):\n",
    "    full_reviews.append(a.text)\n",
    "    \n",
    "#scrapping for ratings\n",
    "for b in driver.find_elements_by_xpath(\"//div[@class='a-row']/a/i/span [@class='a-icon-alt']\"):\n",
    "    ratings.append(b.get_attribute('innerHTML').split(' ')[0])\n",
    "time.sleep(1)\n",
    "    #clciking on second page for reviews\n",
    "driver.find_element_by_xpath(\"//ul[@class='a-pagination']/li[2]/a\").click()\n",
    "time.sleep(2)\n",
    "    # running loop till the end of pages of all reviews\n",
    "while True:\n",
    "    time.sleep(3)\n",
    "    for i in driver.find_elements_by_xpath(\"//span[@class='a-size-base review-text review-text-content']\"):\n",
    "        full_reviews.append(i.text)\n",
    "    for j in driver.find_elements_by_xpath(\"//div[@class='a-row']/a/i/span [@class='a-icon-alt']\"):\n",
    "        ratings.append(j.get_attribute('innerHTML').split(' ')[0])\n",
    "    try:\n",
    "        driver.find_element_by_xpath(\"//ul[@class='a-pagination']/li[2]/a\").click()\n",
    "        time.sleep(2)\n",
    "    except:\n",
    "        break"
   ]
  },
  {
   "cell_type": "code",
   "execution_count": 10,
   "metadata": {},
   "outputs": [
    {
     "data": {
      "text/plain": [
       "(3600, 3600)"
      ]
     },
     "execution_count": 10,
     "metadata": {},
     "output_type": "execute_result"
    }
   ],
   "source": [
    "#checking length of scrapped reviews and ratings\n",
    "\n",
    "len(full_reviews),len(ratings)"
   ]
  },
  {
   "cell_type": "code",
   "execution_count": 11,
   "metadata": {},
   "outputs": [],
   "source": [
    "#creating dataframe for the scrapped reviews and ratings.\n",
    "\n",
    "prod_df20 = pd.DataFrame({'ratings':ratings,'full_reviews':full_reviews})"
   ]
  },
  {
   "cell_type": "code",
   "execution_count": 12,
   "metadata": {},
   "outputs": [
    {
     "data": {
      "text/plain": [
       "4.0    3600\n",
       "Name: ratings, dtype: int64"
      ]
     },
     "execution_count": 12,
     "metadata": {},
     "output_type": "execute_result"
    }
   ],
   "source": [
    "prod_df20['ratings'].value_counts()"
   ]
  },
  {
   "cell_type": "raw",
   "metadata": {},
   "source": [
    "We got 3600 \"4 star\" ratings reviews."
   ]
  },
  {
   "cell_type": "code",
   "execution_count": null,
   "metadata": {},
   "outputs": [],
   "source": []
  },
  {
   "cell_type": "code",
   "execution_count": 13,
   "metadata": {},
   "outputs": [],
   "source": [
    "#Now we will scrap \"3 star\" rating reviews.\n",
    "\n",
    "driver.find_element_by_xpath(\"(//table[@class='a-normal a-align-center a-spacing-base']/tbody/tr[3]/td/span/a)[1]\").click()"
   ]
  },
  {
   "cell_type": "code",
   "execution_count": 14,
   "metadata": {},
   "outputs": [],
   "source": [
    "#Creating empty list for reviews abd ratings.\n",
    "\n",
    "full_reviews=[]\n",
    "ratings=[]"
   ]
  },
  {
   "cell_type": "code",
   "execution_count": 15,
   "metadata": {},
   "outputs": [],
   "source": [
    "#scrapping reviews. \n",
    "for a in driver.find_elements_by_xpath(\"//span[@class='a-size-base review-text review-text-content']\"):\n",
    "    full_reviews.append(a.text)\n",
    "#scrapping ratings\n",
    "for b in driver.find_elements_by_xpath(\"//div[@class='a-row']/a/i/span [@class='a-icon-alt']\"):\n",
    "    ratings.append(b.get_attribute('innerHTML').split(' ')[0])\n",
    "time.sleep(1)\n",
    "    #clciking on second page for reviews\n",
    "driver.find_element_by_xpath(\"//ul[@class='a-pagination']/li[2]/a\").click()\n",
    "time.sleep(2)\n",
    "    # running loop till the end of pages of all reviews\n",
    "while True:\n",
    "    time.sleep(3)\n",
    "    for i in driver.find_elements_by_xpath(\"//span[@class='a-size-base review-text review-text-content']\"):\n",
    "        full_reviews.append(i.text)\n",
    "    for j in driver.find_elements_by_xpath(\"//div[@class='a-row']/a/i/span [@class='a-icon-alt']\"):\n",
    "        ratings.append(j.get_attribute('innerHTML').split(' ')[0])\n",
    "    try:\n",
    "        driver.find_element_by_xpath(\"//ul[@class='a-pagination']/li[2]/a\").click()\n",
    "        time.sleep(2)\n",
    "    except:\n",
    "        break"
   ]
  },
  {
   "cell_type": "code",
   "execution_count": 16,
   "metadata": {},
   "outputs": [
    {
     "data": {
      "text/plain": [
       "(1112, 1112)"
      ]
     },
     "execution_count": 16,
     "metadata": {},
     "output_type": "execute_result"
    }
   ],
   "source": [
    "#checking length of scrapped reviews and ratings\n",
    "\n",
    "len(full_reviews),len(ratings)"
   ]
  },
  {
   "cell_type": "code",
   "execution_count": 17,
   "metadata": {},
   "outputs": [],
   "source": [
    "#creating dataframe for the scrapped reviews and ratings.\n",
    "\n",
    "prod_df21= pd.DataFrame({'ratings':ratings,'full_reviews':full_reviews})"
   ]
  },
  {
   "cell_type": "code",
   "execution_count": 18,
   "metadata": {},
   "outputs": [
    {
     "data": {
      "text/plain": [
       "3.0    1112\n",
       "Name: ratings, dtype: int64"
      ]
     },
     "execution_count": 18,
     "metadata": {},
     "output_type": "execute_result"
    }
   ],
   "source": [
    "prod_df21['ratings'].value_counts()"
   ]
  },
  {
   "cell_type": "raw",
   "metadata": {},
   "source": [
    "we got 1112 \"3 star\" ratings reviews."
   ]
  },
  {
   "cell_type": "code",
   "execution_count": null,
   "metadata": {},
   "outputs": [],
   "source": []
  },
  {
   "cell_type": "code",
   "execution_count": 19,
   "metadata": {},
   "outputs": [],
   "source": [
    "#Now we will scrap \"2 star\" rating reviews.\n",
    "driver.find_element_by_xpath(\"(//table[@class='a-normal a-align-center a-spacing-base']/tbody/tr[4]/td/span/a)[1]\").click()"
   ]
  },
  {
   "cell_type": "code",
   "execution_count": 20,
   "metadata": {},
   "outputs": [],
   "source": [
    "#Creating reviews and ratings empty list.\n",
    "\n",
    "full_reviews=[]\n",
    "ratings=[]"
   ]
  },
  {
   "cell_type": "code",
   "execution_count": 21,
   "metadata": {},
   "outputs": [],
   "source": [
    "#scrapping for reviews.\n",
    "for a in driver.find_elements_by_xpath(\"//span[@class='a-size-base review-text review-text-content']\"):\n",
    "    full_reviews.append(a.text)\n",
    "    \n",
    "#scrapping for ratings\n",
    "for b in driver.find_elements_by_xpath(\"//div[@class='a-row']/a/i/span [@class='a-icon-alt']\"):\n",
    "    ratings.append(b.get_attribute('innerHTML').split(' ')[0])\n",
    "time.sleep(1)\n",
    "    #clciking on second page for reviews\n",
    "driver.find_element_by_xpath(\"//ul[@class='a-pagination']/li[2]/a\").click()\n",
    "time.sleep(2)\n",
    "    # running loop till the end of pages of all reviews\n",
    "while True:\n",
    "    time.sleep(3)\n",
    "    for i in driver.find_elements_by_xpath(\"//span[@class='a-size-base review-text review-text-content']\"):\n",
    "        full_reviews.append(i.text)\n",
    "    for j in driver.find_elements_by_xpath(\"//div[@class='a-row']/a/i/span [@class='a-icon-alt']\"):\n",
    "        ratings.append(j.get_attribute('innerHTML').split(' ')[0])\n",
    "    try:\n",
    "        driver.find_element_by_xpath(\"//ul[@class='a-pagination']/li[2]/a\").click()\n",
    "        time.sleep(2)\n",
    "    except:\n",
    "        break"
   ]
  },
  {
   "cell_type": "code",
   "execution_count": 22,
   "metadata": {},
   "outputs": [
    {
     "data": {
      "text/plain": [
       "(649, 649)"
      ]
     },
     "execution_count": 22,
     "metadata": {},
     "output_type": "execute_result"
    }
   ],
   "source": [
    "#checking length of scrapped reviews and ratings\n",
    "\n",
    "len(full_reviews),len(ratings)"
   ]
  },
  {
   "cell_type": "code",
   "execution_count": 23,
   "metadata": {},
   "outputs": [],
   "source": [
    "#creating dataframe for the scrapped reviews and ratings.\n",
    "\n",
    "prod_df22= pd.DataFrame({'ratings':ratings,'full_reviews':full_reviews})"
   ]
  },
  {
   "cell_type": "code",
   "execution_count": 24,
   "metadata": {},
   "outputs": [
    {
     "data": {
      "text/plain": [
       "2.0    649\n",
       "Name: ratings, dtype: int64"
      ]
     },
     "execution_count": 24,
     "metadata": {},
     "output_type": "execute_result"
    }
   ],
   "source": [
    "prod_df22['ratings'].value_counts()"
   ]
  },
  {
   "cell_type": "raw",
   "metadata": {},
   "source": [
    "We got 649 \"2 star\" ratings reviews."
   ]
  },
  {
   "cell_type": "code",
   "execution_count": null,
   "metadata": {},
   "outputs": [],
   "source": []
  },
  {
   "cell_type": "code",
   "execution_count": 25,
   "metadata": {},
   "outputs": [],
   "source": [
    "#Now we will scrap 1 star rating reviews. \n",
    "\n",
    "driver.find_element_by_xpath(\"(//table[@class='a-normal a-align-center a-spacing-base']/tbody/tr[5]/td/span/a)[1]\").click()"
   ]
  },
  {
   "cell_type": "code",
   "execution_count": 26,
   "metadata": {},
   "outputs": [],
   "source": [
    "#creating reviews and ratings empty list. \n",
    "\n",
    "full_reviews=[]\n",
    "ratings=[]"
   ]
  },
  {
   "cell_type": "code",
   "execution_count": 27,
   "metadata": {},
   "outputs": [],
   "source": [
    "#Scrapping for reviews.\n",
    "for a in driver.find_elements_by_xpath(\"//span[@class='a-size-base review-text review-text-content']\"):\n",
    "    full_reviews.append(a.text)\n",
    "#Scrapping for ratings,\n",
    "for b in driver.find_elements_by_xpath(\"//div[@class='a-row']/a/i/span [@class='a-icon-alt']\"):\n",
    "    ratings.append(b.get_attribute('innerHTML').split(' ')[0])\n",
    "time.sleep(1)\n",
    "    #clciking on second page for reviews\n",
    "driver.find_element_by_xpath(\"//ul[@class='a-pagination']/li[2]/a\").click()\n",
    "time.sleep(2)\n",
    "    # running loop till the end of pages of all reviews\n",
    "while True:\n",
    "    time.sleep(3)\n",
    "    for i in driver.find_elements_by_xpath(\"//span[@class='a-size-base review-text review-text-content']\"):\n",
    "        full_reviews.append(i.text)\n",
    "    for j in driver.find_elements_by_xpath(\"//div[@class='a-row']/a/i/span [@class='a-icon-alt']\"):\n",
    "        ratings.append(j.get_attribute('innerHTML').split(' ')[0])\n",
    "    try:\n",
    "        driver.find_element_by_xpath(\"//ul[@class='a-pagination']/li[2]/a\").click()\n",
    "        time.sleep(2)\n",
    "    except:\n",
    "        break"
   ]
  },
  {
   "cell_type": "code",
   "execution_count": 28,
   "metadata": {},
   "outputs": [
    {
     "data": {
      "text/plain": [
       "(2352, 2352)"
      ]
     },
     "execution_count": 28,
     "metadata": {},
     "output_type": "execute_result"
    }
   ],
   "source": [
    "#checking length of scrapped reviews and ratings\n",
    "\n",
    "len(full_reviews),len(ratings)"
   ]
  },
  {
   "cell_type": "code",
   "execution_count": 29,
   "metadata": {},
   "outputs": [],
   "source": [
    "#creating dataframe for the scrapped reviews and ratings.\n",
    "\n",
    "prod_df23= pd.DataFrame({'ratings':ratings,'full_reviews':full_reviews})"
   ]
  },
  {
   "cell_type": "code",
   "execution_count": 30,
   "metadata": {},
   "outputs": [
    {
     "data": {
      "text/plain": [
       "1.0    2352\n",
       "Name: ratings, dtype: int64"
      ]
     },
     "execution_count": 30,
     "metadata": {},
     "output_type": "execute_result"
    }
   ],
   "source": [
    "prod_df23['ratings'].value_counts()"
   ]
  },
  {
   "cell_type": "code",
   "execution_count": 32,
   "metadata": {},
   "outputs": [],
   "source": [
    "prod_df24=prod_df23[0:1427]"
   ]
  },
  {
   "cell_type": "code",
   "execution_count": 33,
   "metadata": {},
   "outputs": [
    {
     "data": {
      "text/plain": [
       "1.0    1427\n",
       "Name: ratings, dtype: int64"
      ]
     },
     "execution_count": 33,
     "metadata": {},
     "output_type": "execute_result"
    }
   ],
   "source": [
    "prod_df24['ratings'].value_counts()"
   ]
  },
  {
   "cell_type": "raw",
   "metadata": {},
   "source": [
    "We got 1427 \"1 star\" rating reviews."
   ]
  },
  {
   "cell_type": "code",
   "execution_count": 43,
   "metadata": {},
   "outputs": [],
   "source": [
    "#We will concatenate till now scrapped data into one data frame.\n",
    "\n",
    "df_new= pd.concat( [prod_df24, prod_df22, prod_df21, prod_df20], axis=0) "
   ]
  },
  {
   "cell_type": "code",
   "execution_count": 44,
   "metadata": {},
   "outputs": [
    {
     "data": {
      "text/plain": [
       "4.0    3600\n",
       "1.0    1427\n",
       "3.0    1112\n",
       "2.0     649\n",
       "Name: ratings, dtype: int64"
      ]
     },
     "execution_count": 44,
     "metadata": {},
     "output_type": "execute_result"
    }
   ],
   "source": [
    "df_new['ratings'].value_counts()"
   ]
  },
  {
   "cell_type": "code",
   "execution_count": 45,
   "metadata": {},
   "outputs": [
    {
     "data": {
      "text/html": [
       "<div>\n",
       "<style scoped>\n",
       "    .dataframe tbody tr th:only-of-type {\n",
       "        vertical-align: middle;\n",
       "    }\n",
       "\n",
       "    .dataframe tbody tr th {\n",
       "        vertical-align: top;\n",
       "    }\n",
       "\n",
       "    .dataframe thead th {\n",
       "        text-align: right;\n",
       "    }\n",
       "</style>\n",
       "<table border=\"1\" class=\"dataframe\">\n",
       "  <thead>\n",
       "    <tr style=\"text-align: right;\">\n",
       "      <th></th>\n",
       "      <th>ratings</th>\n",
       "      <th>full_reviews</th>\n",
       "    </tr>\n",
       "  </thead>\n",
       "  <tbody>\n",
       "    <tr>\n",
       "      <th>0</th>\n",
       "      <td>1.0</td>\n",
       "      <td>Pathetic quality product, not even worth 1000 ...</td>\n",
       "    </tr>\n",
       "    <tr>\n",
       "      <th>1</th>\n",
       "      <td>1.0</td>\n",
       "      <td>Apart from showing accurate time &amp; much health...</td>\n",
       "    </tr>\n",
       "    <tr>\n",
       "      <th>2</th>\n",
       "      <td>1.0</td>\n",
       "      <td>this product does not support with one plus ph...</td>\n",
       "    </tr>\n",
       "    <tr>\n",
       "      <th>3</th>\n",
       "      <td>1.0</td>\n",
       "      <td>Don't buy this product!!\\nI received this prod...</td>\n",
       "    </tr>\n",
       "    <tr>\n",
       "      <th>4</th>\n",
       "      <td>1.0</td>\n",
       "      <td>Bluetooth coverage is 1 to 2 Mtrs max. Technic...</td>\n",
       "    </tr>\n",
       "  </tbody>\n",
       "</table>\n",
       "</div>"
      ],
      "text/plain": [
       "  ratings                                       full_reviews\n",
       "0     1.0  Pathetic quality product, not even worth 1000 ...\n",
       "1     1.0  Apart from showing accurate time & much health...\n",
       "2     1.0  this product does not support with one plus ph...\n",
       "3     1.0  Don't buy this product!!\\nI received this prod...\n",
       "4     1.0  Bluetooth coverage is 1 to 2 Mtrs max. Technic..."
      ]
     },
     "execution_count": 45,
     "metadata": {},
     "output_type": "execute_result"
    }
   ],
   "source": [
    "df_new.head()"
   ]
  },
  {
   "cell_type": "code",
   "execution_count": 46,
   "metadata": {},
   "outputs": [
    {
     "data": {
      "text/plain": [
       "(6788, 2)"
      ]
     },
     "execution_count": 46,
     "metadata": {},
     "output_type": "execute_result"
    }
   ],
   "source": [
    "df_new.shape"
   ]
  },
  {
   "cell_type": "code",
   "execution_count": 47,
   "metadata": {},
   "outputs": [],
   "source": [
    "df_new.to_csv(\"Second_scraped_data.csv\")"
   ]
  },
  {
   "cell_type": "raw",
   "metadata": {},
   "source": [
    "Saving the scrapped dataframe into CSV format. This is second CSV saved file. "
   ]
  },
  {
   "cell_type": "code",
   "execution_count": null,
   "metadata": {},
   "outputs": [],
   "source": []
  },
  {
   "cell_type": "markdown",
   "metadata": {},
   "source": [
    "7th product"
   ]
  },
  {
   "cell_type": "code",
   "execution_count": 17,
   "metadata": {},
   "outputs": [],
   "source": [
    "##Opening Samsung note 10 from amazon.in website\n",
    "\n",
    "driver.get(\"https://www.amazon.in/note10/dp/B089MS8NW8/ref=sr_1_19?dchild=1&keywords=smartphones&qid=1627999959&sr=8-19\")"
   ]
  },
  {
   "cell_type": "code",
   "execution_count": 18,
   "metadata": {},
   "outputs": [],
   "source": [
    "#clicking on product rating option. \n",
    "\n",
    "driver.find_element_by_id(\"acrCustomerReviewText\").click()"
   ]
  },
  {
   "cell_type": "code",
   "execution_count": 19,
   "metadata": {},
   "outputs": [],
   "source": [
    "#Clicking on \"See all reviews\" option.\n",
    "\n",
    "driver.find_element_by_xpath(\"//a[@class='a-link-emphasis a-text-bold']\").click()"
   ]
  },
  {
   "cell_type": "code",
   "execution_count": 20,
   "metadata": {},
   "outputs": [],
   "source": [
    "\n",
    "#Scrapping for \"3 star\" rating reviews.\n",
    "\n",
    "driver.find_element_by_xpath(\"(//table[@class='a-normal a-align-center a-spacing-base']/tbody/tr[3]/td/span/a)[1]\").click()"
   ]
  },
  {
   "cell_type": "code",
   "execution_count": 21,
   "metadata": {},
   "outputs": [],
   "source": [
    "#Creating empty list for reviews and ratings.\n",
    "full_reviews=[]\n",
    "ratings=[]"
   ]
  },
  {
   "cell_type": "code",
   "execution_count": 22,
   "metadata": {},
   "outputs": [],
   "source": [
    "#for scrapping reviews\n",
    "for a in driver.find_elements_by_xpath(\"//span[@class='a-size-base review-text review-text-content']\"):\n",
    "    full_reviews.append(a.text)\n",
    "#scrapping ratings\n",
    "for b in driver.find_elements_by_xpath(\"//div[@class='a-row']/a/i/span [@class='a-icon-alt']\"):\n",
    "    ratings.append(b.get_attribute('innerHTML').split(' ')[0])\n",
    "time.sleep(1)\n",
    "    #clciking on second page for reviews\n",
    "driver.find_element_by_xpath(\"//ul[@class='a-pagination']/li[2]/a\").click()\n",
    "time.sleep(2)\n",
    "    # running loop till the end of pages of all reviews\n",
    "while True:\n",
    "    time.sleep(3)\n",
    "    for i in driver.find_elements_by_xpath(\"//span[@class='a-size-base review-text review-text-content']\"):\n",
    "        full_reviews.append(i.text)\n",
    "    for j in driver.find_elements_by_xpath(\"//div[@class='a-row']/a/i/span [@class='a-icon-alt']\"):\n",
    "        ratings.append(j.get_attribute('innerHTML').split(' ')[0])\n",
    "    try:\n",
    "        driver.find_element_by_xpath(\"//ul[@class='a-pagination']/li[2]/a\").click()\n",
    "        time.sleep(2)\n",
    "    except:\n",
    "        break"
   ]
  },
  {
   "cell_type": "code",
   "execution_count": 25,
   "metadata": {},
   "outputs": [],
   "source": [
    "#creating dataframe for the scrapped reviews and ratings.\n",
    "\n",
    "prod_df30= pd.DataFrame({'ratings':ratings,'full_reviews':full_reviews})"
   ]
  },
  {
   "cell_type": "code",
   "execution_count": 27,
   "metadata": {},
   "outputs": [
    {
     "data": {
      "text/plain": [
       "3.0    1439\n",
       "Name: ratings, dtype: int64"
      ]
     },
     "execution_count": 27,
     "metadata": {},
     "output_type": "execute_result"
    }
   ],
   "source": [
    "prod_df30[\"ratings\"].value_counts()"
   ]
  },
  {
   "cell_type": "raw",
   "metadata": {},
   "source": [
    "we got 1439 \"3 star\" rating reviews."
   ]
  },
  {
   "cell_type": "code",
   "execution_count": null,
   "metadata": {},
   "outputs": [],
   "source": []
  },
  {
   "cell_type": "code",
   "execution_count": 28,
   "metadata": {},
   "outputs": [],
   "source": [
    "#Now we will scrao for \"2 star\" rating reviews.\n",
    "driver.find_element_by_xpath(\"(//table[@class='a-normal a-align-center a-spacing-base']/tbody/tr[4]/td/span/a)[1]\").click()"
   ]
  },
  {
   "cell_type": "code",
   "execution_count": 29,
   "metadata": {},
   "outputs": [],
   "source": [
    "##creating empty list for reviews and ratings.\n",
    "\n",
    "full_reviews=[]\n",
    "ratings=[]"
   ]
  },
  {
   "cell_type": "code",
   "execution_count": 30,
   "metadata": {},
   "outputs": [],
   "source": [
    "#scrapping for reviews\n",
    "for a in driver.find_elements_by_xpath(\"//span[@class='a-size-base review-text review-text-content']\"):\n",
    "    full_reviews.append(a.text)\n",
    "#scrapping for ratings\n",
    "for b in driver.find_elements_by_xpath(\"//div[@class='a-row']/a/i/span [@class='a-icon-alt']\"):\n",
    "    ratings.append(b.get_attribute('innerHTML').split(' ')[0])\n",
    "time.sleep(1)\n",
    "    #clciking on second page for reviews\n",
    "driver.find_element_by_xpath(\"//ul[@class='a-pagination']/li[2]/a\").click()\n",
    "time.sleep(2)\n",
    "    # running loop till the end of pages of all reviews\n",
    "while True:\n",
    "    time.sleep(3)\n",
    "    for i in driver.find_elements_by_xpath(\"//span[@class='a-size-base review-text review-text-content']\"):\n",
    "        full_reviews.append(i.text)\n",
    "    for j in driver.find_elements_by_xpath(\"//div[@class='a-row']/a/i/span [@class='a-icon-alt']\"):\n",
    "        ratings.append(j.get_attribute('innerHTML').split(' ')[0])\n",
    "    try:\n",
    "        driver.find_element_by_xpath(\"//ul[@class='a-pagination']/li[2]/a\").click()\n",
    "        time.sleep(2)\n",
    "    except:\n",
    "        break"
   ]
  },
  {
   "cell_type": "code",
   "execution_count": 32,
   "metadata": {},
   "outputs": [
    {
     "data": {
      "text/plain": [
       "859"
      ]
     },
     "execution_count": 32,
     "metadata": {},
     "output_type": "execute_result"
    }
   ],
   "source": [
    "len(ratings)"
   ]
  },
  {
   "cell_type": "code",
   "execution_count": 33,
   "metadata": {},
   "outputs": [],
   "source": [
    "#creating dataframe for the scrapped reviews and ratings.\n",
    "\n",
    "prod_df31= pd.DataFrame({'ratings':ratings,'full_reviews':full_reviews})"
   ]
  },
  {
   "cell_type": "code",
   "execution_count": 34,
   "metadata": {},
   "outputs": [
    {
     "data": {
      "text/plain": [
       "2.0    859\n",
       "Name: ratings, dtype: int64"
      ]
     },
     "execution_count": 34,
     "metadata": {},
     "output_type": "execute_result"
    }
   ],
   "source": [
    "prod_df31[\"ratings\"].value_counts()"
   ]
  },
  {
   "cell_type": "code",
   "execution_count": 35,
   "metadata": {},
   "outputs": [],
   "source": [
    "df_third= pd.concat( [prod_df30, prod_df31], axis=0) "
   ]
  },
  {
   "cell_type": "code",
   "execution_count": 36,
   "metadata": {},
   "outputs": [
    {
     "data": {
      "text/plain": [
       "3.0    1439\n",
       "2.0     859\n",
       "Name: ratings, dtype: int64"
      ]
     },
     "execution_count": 36,
     "metadata": {},
     "output_type": "execute_result"
    }
   ],
   "source": [
    "df_third[\"ratings\"].value_counts()"
   ]
  },
  {
   "cell_type": "raw",
   "metadata": {},
   "source": [
    "We got 1439 \"3 star\" rating and 859 \"2 star\" rating reviews."
   ]
  },
  {
   "cell_type": "code",
   "execution_count": null,
   "metadata": {},
   "outputs": [],
   "source": []
  },
  {
   "cell_type": "markdown",
   "metadata": {},
   "source": [
    "8th product."
   ]
  },
  {
   "cell_type": "code",
   "execution_count": 45,
   "metadata": {},
   "outputs": [],
   "source": [
    "#Opening Samsung galaxy from amazon.in website\n",
    "\n",
    "driver.get(\"https://www.amazon.in/Samsung-Galaxy-Mirage-128GB-Storage/dp/B07DJCJBB3/ref=cm_cr_arp_d_product_top?ie=UTF8\")"
   ]
  },
  {
   "cell_type": "code",
   "execution_count": 46,
   "metadata": {},
   "outputs": [],
   "source": [
    "#click on product rating option.\n",
    "driver.find_element_by_id(\"acrCustomerReviewText\").click()"
   ]
  },
  {
   "cell_type": "code",
   "execution_count": 47,
   "metadata": {},
   "outputs": [],
   "source": [
    "#click on \"see all reviews\" option. \n",
    "driver.find_element_by_xpath(\"//a[@class='a-link-emphasis a-text-bold']\").click()"
   ]
  },
  {
   "cell_type": "code",
   "execution_count": 48,
   "metadata": {},
   "outputs": [],
   "source": [
    "#Selecting \"3 star\" rating reviews option. \n",
    "driver.find_element_by_xpath(\"(//table[@class='a-normal a-align-center a-spacing-base']/tbody/tr[3]/td/span/a)[1]\").click()"
   ]
  },
  {
   "cell_type": "code",
   "execution_count": 49,
   "metadata": {},
   "outputs": [],
   "source": [
    "#creating empty list for reviews and ratings.\n",
    "\n",
    "full_reviews=[]\n",
    "ratings=[]"
   ]
  },
  {
   "cell_type": "code",
   "execution_count": 50,
   "metadata": {},
   "outputs": [],
   "source": [
    "#scrapping for reviews\n",
    "for a in driver.find_elements_by_xpath(\"//span[@class='a-size-base review-text review-text-content']\"):\n",
    "    full_reviews.append(a.text)\n",
    "#scrapping for ratings\n",
    "for b in driver.find_elements_by_xpath(\"//div[@class='a-row']/a/i/span [@class='a-icon-alt']\"):\n",
    "    ratings.append(b.get_attribute('innerHTML').split(' ')[0])\n",
    "time.sleep(1)\n",
    "    #clciking on second page for reviews\n",
    "driver.find_element_by_xpath(\"//ul[@class='a-pagination']/li[2]/a\").click()\n",
    "time.sleep(2)\n",
    "    # running loop till the end of pages of all reviews\n",
    "while True:\n",
    "    time.sleep(3)\n",
    "    for i in driver.find_elements_by_xpath(\"//span[@class='a-size-base review-text review-text-content']\"):\n",
    "        full_reviews.append(i.text)\n",
    "    for j in driver.find_elements_by_xpath(\"//div[@class='a-row']/a/i/span [@class='a-icon-alt']\"):\n",
    "        ratings.append(j.get_attribute('innerHTML').split(' ')[0])\n",
    "    try:\n",
    "        driver.find_element_by_xpath(\"//ul[@class='a-pagination']/li[2]/a\").click()\n",
    "        time.sleep(2)\n",
    "    except:\n",
    "        break"
   ]
  },
  {
   "cell_type": "code",
   "execution_count": 51,
   "metadata": {},
   "outputs": [
    {
     "data": {
      "text/plain": [
       "2037"
      ]
     },
     "execution_count": 51,
     "metadata": {},
     "output_type": "execute_result"
    }
   ],
   "source": [
    "len(ratings)"
   ]
  },
  {
   "cell_type": "code",
   "execution_count": 52,
   "metadata": {},
   "outputs": [],
   "source": [
    "#creating dataframe for the scrapped reviews and ratings.\n",
    "\n",
    "prod_df32= pd.DataFrame({'ratings':ratings,'full_reviews':full_reviews})"
   ]
  },
  {
   "cell_type": "code",
   "execution_count": 55,
   "metadata": {},
   "outputs": [],
   "source": [
    "prod_df33=prod_df32[0:1744]"
   ]
  },
  {
   "cell_type": "code",
   "execution_count": 56,
   "metadata": {},
   "outputs": [
    {
     "data": {
      "text/plain": [
       "(1744, 2)"
      ]
     },
     "execution_count": 56,
     "metadata": {},
     "output_type": "execute_result"
    }
   ],
   "source": [
    "prod_df33.shape"
   ]
  },
  {
   "cell_type": "code",
   "execution_count": null,
   "metadata": {},
   "outputs": [],
   "source": []
  },
  {
   "cell_type": "code",
   "execution_count": 63,
   "metadata": {},
   "outputs": [],
   "source": [
    "#Now we will scrap for \"2 star\" ratings.\n",
    "driver.find_element_by_xpath(\"(//table[@class='a-normal a-align-center a-spacing-base']/tbody/tr[4]/td/span/a)[1]\").click()"
   ]
  },
  {
   "cell_type": "code",
   "execution_count": 64,
   "metadata": {},
   "outputs": [],
   "source": [
    "#creating empty list for reviews and ratings.\n",
    "\n",
    "full_reviews=[]\n",
    "ratings=[]"
   ]
  },
  {
   "cell_type": "code",
   "execution_count": 66,
   "metadata": {},
   "outputs": [],
   "source": [
    "#scrapping for reviews.\n",
    "for a in driver.find_elements_by_xpath(\"//span[@class='a-size-base review-text review-text-content']\"):\n",
    "    full_reviews.append(a.text)\n",
    "#scrapping for ratings.\n",
    "for b in driver.find_elements_by_xpath(\"//div[@class='a-row']/a/i/span [@class='a-icon-alt']\"):\n",
    "    ratings.append(b.get_attribute('innerHTML').split(' ')[0])\n",
    "time.sleep(1)\n",
    "    #clciking on second page for reviews\n",
    "driver.find_element_by_xpath(\"//ul[@class='a-pagination']/li[2]/a\").click()\n",
    "time.sleep(2)\n",
    "    # running loop till the end of pages of all reviews\n",
    "while True:\n",
    "    time.sleep(3)\n",
    "    for i in driver.find_elements_by_xpath(\"//span[@class='a-size-base review-text review-text-content']\"):\n",
    "        full_reviews.append(i.text)\n",
    "    for j in driver.find_elements_by_xpath(\"//div[@class='a-row']/a/i/span [@class='a-icon-alt']\"):\n",
    "        ratings.append(j.get_attribute('innerHTML').split(' ')[0])\n",
    "    try:\n",
    "        driver.find_element_by_xpath(\"//ul[@class='a-pagination']/li[2]/a\").click()\n",
    "        time.sleep(2)\n",
    "    except:\n",
    "        break"
   ]
  },
  {
   "cell_type": "code",
   "execution_count": 67,
   "metadata": {},
   "outputs": [
    {
     "data": {
      "text/plain": [
       "1063"
      ]
     },
     "execution_count": 67,
     "metadata": {},
     "output_type": "execute_result"
    }
   ],
   "source": [
    "len(ratings)"
   ]
  },
  {
   "cell_type": "code",
   "execution_count": 68,
   "metadata": {},
   "outputs": [],
   "source": [
    "#creating dataframe for the scrapped reviews and ratings.\n",
    "\n",
    "prod_df34= pd.DataFrame({'ratings':ratings,'full_reviews':full_reviews})"
   ]
  },
  {
   "cell_type": "code",
   "execution_count": 69,
   "metadata": {},
   "outputs": [
    {
     "data": {
      "text/plain": [
       "2.0    1063\n",
       "Name: ratings, dtype: int64"
      ]
     },
     "execution_count": 69,
     "metadata": {},
     "output_type": "execute_result"
    }
   ],
   "source": [
    "prod_df34[\"ratings\"].value_counts()"
   ]
  },
  {
   "cell_type": "code",
   "execution_count": null,
   "metadata": {},
   "outputs": [],
   "source": []
  },
  {
   "cell_type": "code",
   "execution_count": 72,
   "metadata": {},
   "outputs": [],
   "source": [
    "#concatenating the scrapped data.\n",
    "df_scrap=pd.concat([df_third,prod_df33,prod_df34],axis=0)"
   ]
  },
  {
   "cell_type": "code",
   "execution_count": 73,
   "metadata": {},
   "outputs": [
    {
     "data": {
      "text/plain": [
       "(5105, 2)"
      ]
     },
     "execution_count": 73,
     "metadata": {},
     "output_type": "execute_result"
    }
   ],
   "source": [
    "df_scrap.shape"
   ]
  },
  {
   "cell_type": "code",
   "execution_count": 74,
   "metadata": {},
   "outputs": [
    {
     "data": {
      "text/plain": [
       "3.0    3183\n",
       "2.0    1922\n",
       "Name: ratings, dtype: int64"
      ]
     },
     "execution_count": 74,
     "metadata": {},
     "output_type": "execute_result"
    }
   ],
   "source": [
    "df_scrap['ratings'].value_counts()"
   ]
  },
  {
   "cell_type": "code",
   "execution_count": 75,
   "metadata": {},
   "outputs": [],
   "source": [
    "df_scrap.to_csv(\"Third_scrapped_data.csv\")"
   ]
  },
  {
   "cell_type": "raw",
   "metadata": {},
   "source": [
    "After saving dataframe teh remaining scrapped data will be saved into third CSV file, "
   ]
  },
  {
   "cell_type": "code",
   "execution_count": null,
   "metadata": {},
   "outputs": [],
   "source": []
  },
  {
   "cell_type": "markdown",
   "metadata": {},
   "source": [
    "10th product."
   ]
  },
  {
   "cell_type": "code",
   "execution_count": 3,
   "metadata": {},
   "outputs": [],
   "source": [
    "#Opening Noise fit bit from amazon.in website\n",
    "\n",
    "driver.get(\"https://www.amazon.in/Noise-ColorFit-Control-Upgraded-Display/dp/B08S3LT43R/ref=sr_1_7?crid=2EJ4AZQP0CUVE&dchild=1&keywords=apple+smart+watches+for+men+2021&qid=1628052779&sprefix=smart+watches+%2Caps%2C503&sr=8-7#customerReviews\")"
   ]
  },
  {
   "cell_type": "code",
   "execution_count": 4,
   "metadata": {},
   "outputs": [],
   "source": [
    "#selecting product ratings option. \n",
    "\n",
    "driver.find_element_by_id(\"acrCustomerReviewText\").click()"
   ]
  },
  {
   "cell_type": "code",
   "execution_count": 5,
   "metadata": {},
   "outputs": [],
   "source": [
    "#Selecting \"see all reviews\" option. \n",
    "\n",
    "driver.find_element_by_xpath(\"//a[@class='a-link-emphasis a-text-bold']\").click()"
   ]
  },
  {
   "cell_type": "code",
   "execution_count": 6,
   "metadata": {},
   "outputs": [],
   "source": [
    "#scrapping for \"2 star\" rating reviews.\n",
    "\n",
    "driver.find_element_by_xpath(\"(//table[@class='a-normal a-align-center a-spacing-base']/tbody/tr[4]/td/span/a)[1]\").click()"
   ]
  },
  {
   "cell_type": "code",
   "execution_count": 7,
   "metadata": {},
   "outputs": [],
   "source": [
    "#creating empty list for reviews and ratings.\n",
    "\n",
    "full_reviews=[]\n",
    "ratings=[]"
   ]
  },
  {
   "cell_type": "code",
   "execution_count": 8,
   "metadata": {},
   "outputs": [],
   "source": [
    "#scrap for reviews.\n",
    "for a in driver.find_elements_by_xpath(\"//span[@class='a-size-base review-text review-text-content']\"):\n",
    "    full_reviews.append(a.text)\n",
    "#scrapping for ratings.\n",
    "for b in driver.find_elements_by_xpath(\"//div[@class='a-row']/a/i/span [@class='a-icon-alt']\"):\n",
    "    ratings.append(b.get_attribute('innerHTML').split(' ')[0])\n",
    "time.sleep(1)\n",
    "    #clciking on second page for reviews\n",
    "driver.find_element_by_xpath(\"//ul[@class='a-pagination']/li[2]/a\").click()\n",
    "time.sleep(2)\n",
    "    # running loop till the end of pages of all reviews\n",
    "while True:\n",
    "    time.sleep(3)\n",
    "    for i in driver.find_elements_by_xpath(\"//span[@class='a-size-base review-text review-text-content']\"):\n",
    "        full_reviews.append(i.text)\n",
    "    for j in driver.find_elements_by_xpath(\"//div[@class='a-row']/a/i/span [@class='a-icon-alt']\"):\n",
    "        ratings.append(j.get_attribute('innerHTML').split(' ')[0])\n",
    "    try:\n",
    "        driver.find_element_by_xpath(\"//ul[@class='a-pagination']/li[2]/a\").click()\n",
    "        time.sleep(2)\n",
    "    except:\n",
    "        break"
   ]
  },
  {
   "cell_type": "code",
   "execution_count": 10,
   "metadata": {},
   "outputs": [
    {
     "data": {
      "text/plain": [
       "654"
      ]
     },
     "execution_count": 10,
     "metadata": {},
     "output_type": "execute_result"
    }
   ],
   "source": [
    "len(full_reviews)"
   ]
  },
  {
   "cell_type": "code",
   "execution_count": 11,
   "metadata": {},
   "outputs": [],
   "source": [
    "#creating dataframe for the scrapped reviews and ratings.\n",
    "\n",
    "prod_df36= pd.DataFrame({'ratings':ratings,'full_reviews':full_reviews})"
   ]
  },
  {
   "cell_type": "code",
   "execution_count": 13,
   "metadata": {},
   "outputs": [
    {
     "data": {
      "text/plain": [
       "2.0    654\n",
       "Name: ratings, dtype: int64"
      ]
     },
     "execution_count": 13,
     "metadata": {},
     "output_type": "execute_result"
    }
   ],
   "source": [
    "prod_df36[\"ratings\"].value_counts()"
   ]
  },
  {
   "cell_type": "code",
   "execution_count": null,
   "metadata": {},
   "outputs": [],
   "source": []
  },
  {
   "cell_type": "markdown",
   "metadata": {},
   "source": [
    "11th Product"
   ]
  },
  {
   "cell_type": "code",
   "execution_count": null,
   "metadata": {},
   "outputs": [],
   "source": []
  },
  {
   "cell_type": "code",
   "execution_count": 40,
   "metadata": {},
   "outputs": [],
   "source": [
    "#Opening Samsung galaxy 12 from amazon.in  website\n",
    "\n",
    "driver.get(\"https://www.amazon.in/Samsung-Galaxy-M12-Storage-Replacement/dp/B08XJBPCTR/ref=sr_1_17?dchild=1&keywords=smart%2Bphones%2B.&qid=1628056347&sr=8-17&th=1\")"
   ]
  },
  {
   "cell_type": "code",
   "execution_count": 41,
   "metadata": {},
   "outputs": [],
   "source": [
    "#click on product rating option. \n",
    "\n",
    "driver.find_element_by_id(\"acrCustomerReviewText\").click()"
   ]
  },
  {
   "cell_type": "code",
   "execution_count": 42,
   "metadata": {},
   "outputs": [],
   "source": [
    "#click on \"See all reviews\" option.\n",
    "\n",
    "driver.find_element_by_xpath(\"//a[@class='a-link-emphasis a-text-bold']\").click()"
   ]
  },
  {
   "cell_type": "code",
   "execution_count": 43,
   "metadata": {},
   "outputs": [],
   "source": [
    "#Selecting \"2 star\" rating reviews option\n",
    "driver.find_element_by_xpath(\"(//table[@class='a-normal a-align-center a-spacing-base']/tbody/tr[4]/td/span/a)[1]\").click()"
   ]
  },
  {
   "cell_type": "code",
   "execution_count": 44,
   "metadata": {},
   "outputs": [],
   "source": [
    "#creating empty list for reviews and ratings.\n",
    "\n",
    "full_reviews=[]\n",
    "ratings=[]"
   ]
  },
  {
   "cell_type": "code",
   "execution_count": 45,
   "metadata": {},
   "outputs": [],
   "source": [
    "#Scrapping for reviews.\n",
    "for a in driver.find_elements_by_xpath(\"//span[@class='a-size-base review-text review-text-content']\"):\n",
    "    full_reviews.append(a.text)\n",
    "#Scrapping for ratings\n",
    "for b in driver.find_elements_by_xpath(\"//div[@class='a-row']/a/i/span [@class='a-icon-alt']\"):\n",
    "    ratings.append(b.get_attribute('innerHTML').split(' ')[0])\n",
    "time.sleep(1)\n",
    "    #clciking on second page for reviews\n",
    "driver.find_element_by_xpath(\"//ul[@class='a-pagination']/li[2]/a\").click()\n",
    "time.sleep(2)\n",
    "    # running loop till the end of pages of all reviews\n",
    "while True:\n",
    "    time.sleep(3)\n",
    "    for i in driver.find_elements_by_xpath(\"//span[@class='a-size-base review-text review-text-content']\"):\n",
    "        full_reviews.append(i.text)\n",
    "    for j in driver.find_elements_by_xpath(\"//div[@class='a-row']/a/i/span [@class='a-icon-alt']\"):\n",
    "        ratings.append(j.get_attribute('innerHTML').split(' ')[0])\n",
    "    try:\n",
    "        driver.find_element_by_xpath(\"//ul[@class='a-pagination']/li[2]/a\").click()\n",
    "        time.sleep(2)\n",
    "    except:\n",
    "        break"
   ]
  },
  {
   "cell_type": "code",
   "execution_count": 47,
   "metadata": {},
   "outputs": [
    {
     "data": {
      "text/plain": [
       "450"
      ]
     },
     "execution_count": 47,
     "metadata": {},
     "output_type": "execute_result"
    }
   ],
   "source": [
    "len(full_reviews)"
   ]
  },
  {
   "cell_type": "code",
   "execution_count": 48,
   "metadata": {},
   "outputs": [],
   "source": [
    "##creating dataframe for the scrapped reviews and ratings.\n",
    "\n",
    "prod_df37= pd.DataFrame({'ratings':ratings,'full_reviews':full_reviews})"
   ]
  },
  {
   "cell_type": "code",
   "execution_count": 49,
   "metadata": {},
   "outputs": [
    {
     "data": {
      "text/plain": [
       "2.0    450\n",
       "Name: ratings, dtype: int64"
      ]
     },
     "execution_count": 49,
     "metadata": {},
     "output_type": "execute_result"
    }
   ],
   "source": [
    "prod_df37['ratings'].value_counts()"
   ]
  },
  {
   "cell_type": "code",
   "execution_count": null,
   "metadata": {},
   "outputs": [],
   "source": []
  },
  {
   "cell_type": "markdown",
   "metadata": {},
   "source": [
    "12 th product"
   ]
  },
  {
   "cell_type": "code",
   "execution_count": 58,
   "metadata": {},
   "outputs": [],
   "source": [
    "#Opening oppo smart phone from amazon website\n",
    "\n",
    "driver.get(\"https://www.amazon.in/Oppo-Fantasy-Storage-Additional-Exchange/dp/B08444SXZ6/ref=cm_cr_arp_d_product_top?ie=UTF8\")"
   ]
  },
  {
   "cell_type": "code",
   "execution_count": 59,
   "metadata": {},
   "outputs": [],
   "source": [
    "#clicking on product rating option.\n",
    "\n",
    "driver.find_element_by_id(\"acrCustomerReviewText\").click()"
   ]
  },
  {
   "cell_type": "code",
   "execution_count": 60,
   "metadata": {},
   "outputs": [],
   "source": [
    "#clicking on \"See all reviews\" option.\n",
    "\n",
    "driver.find_element_by_xpath(\"//a[@class='a-link-emphasis a-text-bold']\").click()"
   ]
  },
  {
   "cell_type": "code",
   "execution_count": 61,
   "metadata": {},
   "outputs": [],
   "source": [
    "#Selecting \"2 star\" rating reviews.\n",
    "\n",
    "driver.find_element_by_xpath(\"(//table[@class='a-normal a-align-center a-spacing-base']/tbody/tr[4]/td/span/a)[1]\").click()"
   ]
  },
  {
   "cell_type": "code",
   "execution_count": 62,
   "metadata": {},
   "outputs": [],
   "source": [
    "#creating empty list for reviews and ratings.\n",
    "\n",
    "full_reviews=[]\n",
    "ratings=[]"
   ]
  },
  {
   "cell_type": "code",
   "execution_count": 63,
   "metadata": {},
   "outputs": [],
   "source": [
    "#scrapping for reviews.\n",
    "for a in driver.find_elements_by_xpath(\"//span[@class='a-size-base review-text review-text-content']\"):\n",
    "    full_reviews.append(a.text)\n",
    "#scrapping for ratings.\n",
    "for b in driver.find_elements_by_xpath(\"//div[@class='a-row']/a/i/span [@class='a-icon-alt']\"):\n",
    "    ratings.append(b.get_attribute('innerHTML').split(' ')[0])\n",
    "time.sleep(1)\n",
    "    #clciking on second page for reviews\n",
    "driver.find_element_by_xpath(\"//ul[@class='a-pagination']/li[2]/a\").click()\n",
    "time.sleep(2)\n",
    "    # running loop till the end of pages of all reviews\n",
    "while True:\n",
    "    time.sleep(3)\n",
    "    for i in driver.find_elements_by_xpath(\"//span[@class='a-size-base review-text review-text-content']\"):\n",
    "        full_reviews.append(i.text)\n",
    "    for j in driver.find_elements_by_xpath(\"//div[@class='a-row']/a/i/span [@class='a-icon-alt']\"):\n",
    "        ratings.append(j.get_attribute('innerHTML').split(' ')[0])\n",
    "    try:\n",
    "        driver.find_element_by_xpath(\"//ul[@class='a-pagination']/li[2]/a\").click()\n",
    "        time.sleep(2)\n",
    "    except:\n",
    "        break"
   ]
  },
  {
   "cell_type": "code",
   "execution_count": 65,
   "metadata": {},
   "outputs": [
    {
     "data": {
      "text/plain": [
       "148"
      ]
     },
     "execution_count": 65,
     "metadata": {},
     "output_type": "execute_result"
    }
   ],
   "source": [
    "len(ratings)"
   ]
  },
  {
   "cell_type": "code",
   "execution_count": 66,
   "metadata": {},
   "outputs": [],
   "source": [
    "#creating dataframe for the scrapped reviews and ratings.\n",
    "\n",
    "prod_df38= pd.DataFrame({'ratings':ratings,'full_reviews':full_reviews})"
   ]
  },
  {
   "cell_type": "code",
   "execution_count": 67,
   "metadata": {},
   "outputs": [
    {
     "data": {
      "text/plain": [
       "2.0    148\n",
       "Name: ratings, dtype: int64"
      ]
     },
     "execution_count": 67,
     "metadata": {},
     "output_type": "execute_result"
    }
   ],
   "source": [
    "prod_df38[\"ratings\"].value_counts()"
   ]
  },
  {
   "cell_type": "code",
   "execution_count": null,
   "metadata": {},
   "outputs": [],
   "source": []
  },
  {
   "cell_type": "markdown",
   "metadata": {},
   "source": [
    "13th product."
   ]
  },
  {
   "cell_type": "code",
   "execution_count": 69,
   "metadata": {},
   "outputs": [],
   "source": [
    "##Opening oppo f17 from amazon.in\n",
    "\n",
    "driver.get(\"https://www.amazon.in/128GB-Storage-Additional-Exchange-Offers/dp/B086KDJ6NP/ref=cm_cr_arp_d_product_top?ie=UTF8\")"
   ]
  },
  {
   "cell_type": "code",
   "execution_count": 70,
   "metadata": {},
   "outputs": [],
   "source": [
    "#clicking on \"product rating\" option.\n",
    "driver.find_element_by_id(\"acrCustomerReviewText\").click()"
   ]
  },
  {
   "cell_type": "code",
   "execution_count": 71,
   "metadata": {},
   "outputs": [],
   "source": [
    "#clicking on \"see all reviews\" option.\n",
    "driver.find_element_by_xpath(\"//a[@class='a-link-emphasis a-text-bold']\").click()"
   ]
  },
  {
   "cell_type": "code",
   "execution_count": 73,
   "metadata": {},
   "outputs": [],
   "source": [
    "#creating empty list for reviews and ratings\n",
    "full_reviews=[]\n",
    "ratings=[]"
   ]
  },
  {
   "cell_type": "code",
   "execution_count": 74,
   "metadata": {},
   "outputs": [],
   "source": [
    "#scrapping for reviews\n",
    "for a in driver.find_elements_by_xpath(\"//span[@class='a-size-base review-text review-text-content']\"):\n",
    "    full_reviews.append(a.text)\n",
    "#scrapping for ratings\n",
    "for b in driver.find_elements_by_xpath(\"//div[@class='a-row']/a/i/span [@class='a-icon-alt']\"):\n",
    "    ratings.append(b.get_attribute('innerHTML').split(' ')[0])\n",
    "time.sleep(1)\n",
    "    #clciking on second page for reviews\n",
    "driver.find_element_by_xpath(\"//ul[@class='a-pagination']/li[2]/a\").click()\n",
    "time.sleep(2)\n",
    "    # running loop till the end of pages of all reviews\n",
    "while True:\n",
    "    time.sleep(3)\n",
    "    for i in driver.find_elements_by_xpath(\"//span[@class='a-size-base review-text review-text-content']\"):\n",
    "        full_reviews.append(i.text)\n",
    "    for j in driver.find_elements_by_xpath(\"//div[@class='a-row']/a/i/span [@class='a-icon-alt']\"):\n",
    "        ratings.append(j.get_attribute('innerHTML').split(' ')[0])\n",
    "    try:\n",
    "        driver.find_element_by_xpath(\"//ul[@class='a-pagination']/li[2]/a\").click()\n",
    "        time.sleep(2)\n",
    "    except:\n",
    "        break"
   ]
  },
  {
   "cell_type": "code",
   "execution_count": 75,
   "metadata": {},
   "outputs": [
    {
     "data": {
      "text/plain": [
       "71"
      ]
     },
     "execution_count": 75,
     "metadata": {},
     "output_type": "execute_result"
    }
   ],
   "source": [
    "len(full_reviews)"
   ]
  },
  {
   "cell_type": "code",
   "execution_count": 76,
   "metadata": {},
   "outputs": [],
   "source": [
    "#creating dataframe for the scrapped reviews and ratings.\n",
    "\n",
    "prod_df39= pd.DataFrame({'ratings':ratings,'full_reviews':full_reviews})"
   ]
  },
  {
   "cell_type": "code",
   "execution_count": 77,
   "metadata": {},
   "outputs": [
    {
     "data": {
      "text/plain": [
       "2.0    71\n",
       "Name: ratings, dtype: int64"
      ]
     },
     "execution_count": 77,
     "metadata": {},
     "output_type": "execute_result"
    }
   ],
   "source": [
    "prod_df39[\"ratings\"].value_counts()"
   ]
  },
  {
   "cell_type": "code",
   "execution_count": null,
   "metadata": {},
   "outputs": [],
   "source": []
  },
  {
   "cell_type": "code",
   "execution_count": 78,
   "metadata": {},
   "outputs": [],
   "source": [
    "df_2rating=pd.concat([prod_df36,prod_df37,prod_df38,prod_df39],axis=0)"
   ]
  },
  {
   "cell_type": "code",
   "execution_count": 79,
   "metadata": {},
   "outputs": [
    {
     "data": {
      "text/plain": [
       "2.0    1323\n",
       "Name: ratings, dtype: int64"
      ]
     },
     "execution_count": 79,
     "metadata": {},
     "output_type": "execute_result"
    }
   ],
   "source": [
    "df_2rating[\"ratings\"].value_counts()"
   ]
  },
  {
   "cell_type": "code",
   "execution_count": 80,
   "metadata": {},
   "outputs": [],
   "source": [
    "df_2rating.to_csv(\"Fourth_scrap_data.csv\")"
   ]
  },
  {
   "cell_type": "raw",
   "metadata": {},
   "source": [
    "Saving all the remaining scrapped \"2 star\" ratings into single data frame and save it as 4th CSV file"
   ]
  },
  {
   "cell_type": "markdown",
   "metadata": {},
   "source": [
    "Now we will get all the 4 saved CSV files with the help of pandas.read_csv() option, "
   ]
  },
  {
   "cell_type": "code",
   "execution_count": 81,
   "metadata": {},
   "outputs": [],
   "source": [
    "df1=pd.read_csv(\"First_scraped_data.csv\")\n",
    "df2=pd.read_csv(\"Second_scraped_data.csv\")\n",
    "df3=pd.read_csv(\"Third_scrapped_data.csv\")\n",
    "df4=pd.read_csv(\"Fourth_scrap_data.csv\")"
   ]
  },
  {
   "cell_type": "code",
   "execution_count": 82,
   "metadata": {},
   "outputs": [],
   "source": [
    "#We will concatenate all the 4 CSV files into a final dataset\n",
    "df_final_dataset=pd.concat([df2,df1,df4,df3],axis=0)"
   ]
  },
  {
   "cell_type": "code",
   "execution_count": 83,
   "metadata": {},
   "outputs": [
    {
     "data": {
      "text/plain": [
       "(30462, 3)"
      ]
     },
     "execution_count": 83,
     "metadata": {},
     "output_type": "execute_result"
    }
   ],
   "source": [
    "df_final_dataset.shape #now we got 30462 reviews, "
   ]
  },
  {
   "cell_type": "code",
   "execution_count": 84,
   "metadata": {},
   "outputs": [
    {
     "data": {
      "text/html": [
       "<div>\n",
       "<style scoped>\n",
       "    .dataframe tbody tr th:only-of-type {\n",
       "        vertical-align: middle;\n",
       "    }\n",
       "\n",
       "    .dataframe tbody tr th {\n",
       "        vertical-align: top;\n",
       "    }\n",
       "\n",
       "    .dataframe thead th {\n",
       "        text-align: right;\n",
       "    }\n",
       "</style>\n",
       "<table border=\"1\" class=\"dataframe\">\n",
       "  <thead>\n",
       "    <tr style=\"text-align: right;\">\n",
       "      <th></th>\n",
       "      <th>Unnamed: 0</th>\n",
       "      <th>ratings</th>\n",
       "      <th>full_reviews</th>\n",
       "    </tr>\n",
       "  </thead>\n",
       "  <tbody>\n",
       "    <tr>\n",
       "      <th>0</th>\n",
       "      <td>0</td>\n",
       "      <td>1.0</td>\n",
       "      <td>Pathetic quality product, not even worth 1000 ...</td>\n",
       "    </tr>\n",
       "    <tr>\n",
       "      <th>1</th>\n",
       "      <td>1</td>\n",
       "      <td>1.0</td>\n",
       "      <td>Apart from showing accurate time &amp; much health...</td>\n",
       "    </tr>\n",
       "    <tr>\n",
       "      <th>2</th>\n",
       "      <td>2</td>\n",
       "      <td>1.0</td>\n",
       "      <td>this product does not support with one plus ph...</td>\n",
       "    </tr>\n",
       "    <tr>\n",
       "      <th>3</th>\n",
       "      <td>3</td>\n",
       "      <td>1.0</td>\n",
       "      <td>Don't buy this product!!\\nI received this prod...</td>\n",
       "    </tr>\n",
       "    <tr>\n",
       "      <th>4</th>\n",
       "      <td>4</td>\n",
       "      <td>1.0</td>\n",
       "      <td>Bluetooth coverage is 1 to 2 Mtrs max. Technic...</td>\n",
       "    </tr>\n",
       "  </tbody>\n",
       "</table>\n",
       "</div>"
      ],
      "text/plain": [
       "   Unnamed: 0  ratings                                       full_reviews\n",
       "0           0      1.0  Pathetic quality product, not even worth 1000 ...\n",
       "1           1      1.0  Apart from showing accurate time & much health...\n",
       "2           2      1.0  this product does not support with one plus ph...\n",
       "3           3      1.0  Don't buy this product!!\\nI received this prod...\n",
       "4           4      1.0  Bluetooth coverage is 1 to 2 Mtrs max. Technic..."
      ]
     },
     "execution_count": 84,
     "metadata": {},
     "output_type": "execute_result"
    }
   ],
   "source": [
    "df_final_dataset.head()"
   ]
  },
  {
   "cell_type": "code",
   "execution_count": 85,
   "metadata": {},
   "outputs": [],
   "source": [
    "df_final_dataset.drop([\"Unnamed: 0\"],axis=1,inplace=True)"
   ]
  },
  {
   "cell_type": "code",
   "execution_count": 86,
   "metadata": {},
   "outputs": [
    {
     "data": {
      "text/plain": [
       "Index(['ratings', 'full_reviews'], dtype='object')"
      ]
     },
     "execution_count": 86,
     "metadata": {},
     "output_type": "execute_result"
    }
   ],
   "source": [
    "df_final_dataset.columns"
   ]
  },
  {
   "cell_type": "code",
   "execution_count": 87,
   "metadata": {},
   "outputs": [
    {
     "data": {
      "text/plain": [
       "5.0    6371\n",
       "1.0    6371\n",
       "3.0    6360\n",
       "4.0    6321\n",
       "2.0    5039\n",
       "Name: ratings, dtype: int64"
      ]
     },
     "execution_count": 87,
     "metadata": {},
     "output_type": "execute_result"
    }
   ],
   "source": [
    "df_final_dataset[\"ratings\"].value_counts()"
   ]
  },
  {
   "cell_type": "raw",
   "metadata": {},
   "source": [
    "We can see that we scrapped 6371, \"5 star rating\" reviews, 6321 \"4 star rating\",6360 \"3 star rating\",5039 \"2 star rating\", 6371 \"1 star rating\". \n"
   ]
  },
  {
   "cell_type": "code",
   "execution_count": 94,
   "metadata": {},
   "outputs": [],
   "source": [
    "df_final_dataset.dropna(axis=0,inplace=True) #dropping null values if any"
   ]
  },
  {
   "cell_type": "code",
   "execution_count": 95,
   "metadata": {},
   "outputs": [
    {
     "data": {
      "text/plain": [
       "ratings         0\n",
       "full_reviews    0\n",
       "dtype: int64"
      ]
     },
     "execution_count": 95,
     "metadata": {},
     "output_type": "execute_result"
    }
   ],
   "source": [
    "df_final_dataset.isnull().sum()#no null values"
   ]
  },
  {
   "cell_type": "code",
   "execution_count": 96,
   "metadata": {},
   "outputs": [
    {
     "data": {
      "text/plain": [
       "5.0    6369\n",
       "1.0    6369\n",
       "3.0    6349\n",
       "4.0    6306\n",
       "2.0    5031\n",
       "Name: ratings, dtype: int64"
      ]
     },
     "execution_count": 96,
     "metadata": {},
     "output_type": "execute_result"
    }
   ],
   "source": [
    "df_final_dataset[\"ratings\"].value_counts()"
   ]
  },
  {
   "cell_type": "code",
   "execution_count": 97,
   "metadata": {},
   "outputs": [],
   "source": [
    "df_final_dataset.to_csv(\"Ratings_prediction.csv\")"
   ]
  },
  {
   "cell_type": "raw",
   "metadata": {},
   "source": [
    "Saving the Final data set as \"Ratings_prediction.csv\", this is the file we are going to use to train the model. Training the model will be done n new jupyter note book. "
   ]
  },
  {
   "cell_type": "code",
   "execution_count": null,
   "metadata": {},
   "outputs": [],
   "source": []
  }
 ],
 "metadata": {
  "kernelspec": {
   "display_name": "Python 3",
   "language": "python",
   "name": "python3"
  },
  "language_info": {
   "codemirror_mode": {
    "name": "ipython",
    "version": 3
   },
   "file_extension": ".py",
   "mimetype": "text/x-python",
   "name": "python",
   "nbconvert_exporter": "python",
   "pygments_lexer": "ipython3",
   "version": "3.8.3"
  }
 },
 "nbformat": 4,
 "nbformat_minor": 4
}

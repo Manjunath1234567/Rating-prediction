{
 "cells": [
  {
   "cell_type": "markdown",
   "metadata": {},
   "source": [
    "Required liabraries"
   ]
  },
  {
   "cell_type": "code",
   "execution_count": 49,
   "metadata": {},
   "outputs": [],
   "source": [
    "import pandas as pd \n",
    "import numpy as np \n",
    "import matplotlib.pyplot as plt \n",
    "import seaborn as sns\n",
    "import string\n",
    "import nltk\n",
    "import warnings\n",
    "warnings.filterwarnings('ignore')"
   ]
  },
  {
   "cell_type": "code",
   "execution_count": 50,
   "metadata": {},
   "outputs": [],
   "source": [
    "#Loading the data set\n",
    "df=pd.read_csv(\"Ratings_prediction.csv\")"
   ]
  },
  {
   "cell_type": "code",
   "execution_count": 51,
   "metadata": {},
   "outputs": [
    {
     "data": {
      "text/html": [
       "<div>\n",
       "<style scoped>\n",
       "    .dataframe tbody tr th:only-of-type {\n",
       "        vertical-align: middle;\n",
       "    }\n",
       "\n",
       "    .dataframe tbody tr th {\n",
       "        vertical-align: top;\n",
       "    }\n",
       "\n",
       "    .dataframe thead th {\n",
       "        text-align: right;\n",
       "    }\n",
       "</style>\n",
       "<table border=\"1\" class=\"dataframe\">\n",
       "  <thead>\n",
       "    <tr style=\"text-align: right;\">\n",
       "      <th></th>\n",
       "      <th>Unnamed: 0</th>\n",
       "      <th>ratings</th>\n",
       "      <th>full_reviews</th>\n",
       "    </tr>\n",
       "  </thead>\n",
       "  <tbody>\n",
       "    <tr>\n",
       "      <th>0</th>\n",
       "      <td>0</td>\n",
       "      <td>1.0</td>\n",
       "      <td>Pathetic quality product, not even worth 1000 ...</td>\n",
       "    </tr>\n",
       "    <tr>\n",
       "      <th>1</th>\n",
       "      <td>1</td>\n",
       "      <td>1.0</td>\n",
       "      <td>Apart from showing accurate time &amp; much health...</td>\n",
       "    </tr>\n",
       "    <tr>\n",
       "      <th>2</th>\n",
       "      <td>2</td>\n",
       "      <td>1.0</td>\n",
       "      <td>this product does not support with one plus ph...</td>\n",
       "    </tr>\n",
       "    <tr>\n",
       "      <th>3</th>\n",
       "      <td>3</td>\n",
       "      <td>1.0</td>\n",
       "      <td>Don't buy this product!!\\nI received this prod...</td>\n",
       "    </tr>\n",
       "    <tr>\n",
       "      <th>4</th>\n",
       "      <td>4</td>\n",
       "      <td>1.0</td>\n",
       "      <td>Bluetooth coverage is 1 to 2 Mtrs max. Technic...</td>\n",
       "    </tr>\n",
       "  </tbody>\n",
       "</table>\n",
       "</div>"
      ],
      "text/plain": [
       "   Unnamed: 0  ratings                                       full_reviews\n",
       "0           0      1.0  Pathetic quality product, not even worth 1000 ...\n",
       "1           1      1.0  Apart from showing accurate time & much health...\n",
       "2           2      1.0  this product does not support with one plus ph...\n",
       "3           3      1.0  Don't buy this product!!\\nI received this prod...\n",
       "4           4      1.0  Bluetooth coverage is 1 to 2 Mtrs max. Technic..."
      ]
     },
     "execution_count": 51,
     "metadata": {},
     "output_type": "execute_result"
    }
   ],
   "source": [
    "#checking first five rows of data set\n",
    "df.head()"
   ]
  },
  {
   "cell_type": "code",
   "execution_count": 52,
   "metadata": {},
   "outputs": [],
   "source": [
    "#we can see that from the data frame we got ratings, full_reviews and unnamed columns. \n",
    "#Column unamed is just index with unique values. So we will drop it. "
   ]
  },
  {
   "cell_type": "code",
   "execution_count": 53,
   "metadata": {},
   "outputs": [],
   "source": [
    "df.drop([\"Unnamed: 0\"],axis=1,inplace=True)"
   ]
  },
  {
   "cell_type": "code",
   "execution_count": 54,
   "metadata": {},
   "outputs": [
    {
     "data": {
      "text/html": [
       "<div>\n",
       "<style scoped>\n",
       "    .dataframe tbody tr th:only-of-type {\n",
       "        vertical-align: middle;\n",
       "    }\n",
       "\n",
       "    .dataframe tbody tr th {\n",
       "        vertical-align: top;\n",
       "    }\n",
       "\n",
       "    .dataframe thead th {\n",
       "        text-align: right;\n",
       "    }\n",
       "</style>\n",
       "<table border=\"1\" class=\"dataframe\">\n",
       "  <thead>\n",
       "    <tr style=\"text-align: right;\">\n",
       "      <th></th>\n",
       "      <th>ratings</th>\n",
       "      <th>full_reviews</th>\n",
       "    </tr>\n",
       "  </thead>\n",
       "  <tbody>\n",
       "    <tr>\n",
       "      <th>0</th>\n",
       "      <td>1.0</td>\n",
       "      <td>Pathetic quality product, not even worth 1000 ...</td>\n",
       "    </tr>\n",
       "    <tr>\n",
       "      <th>1</th>\n",
       "      <td>1.0</td>\n",
       "      <td>Apart from showing accurate time &amp; much health...</td>\n",
       "    </tr>\n",
       "    <tr>\n",
       "      <th>2</th>\n",
       "      <td>1.0</td>\n",
       "      <td>this product does not support with one plus ph...</td>\n",
       "    </tr>\n",
       "    <tr>\n",
       "      <th>3</th>\n",
       "      <td>1.0</td>\n",
       "      <td>Don't buy this product!!\\nI received this prod...</td>\n",
       "    </tr>\n",
       "    <tr>\n",
       "      <th>4</th>\n",
       "      <td>1.0</td>\n",
       "      <td>Bluetooth coverage is 1 to 2 Mtrs max. Technic...</td>\n",
       "    </tr>\n",
       "  </tbody>\n",
       "</table>\n",
       "</div>"
      ],
      "text/plain": [
       "   ratings                                       full_reviews\n",
       "0      1.0  Pathetic quality product, not even worth 1000 ...\n",
       "1      1.0  Apart from showing accurate time & much health...\n",
       "2      1.0  this product does not support with one plus ph...\n",
       "3      1.0  Don't buy this product!!\\nI received this prod...\n",
       "4      1.0  Bluetooth coverage is 1 to 2 Mtrs max. Technic..."
      ]
     },
     "execution_count": 54,
     "metadata": {},
     "output_type": "execute_result"
    }
   ],
   "source": [
    "df.head()"
   ]
  },
  {
   "cell_type": "code",
   "execution_count": 55,
   "metadata": {},
   "outputs": [
    {
     "data": {
      "text/plain": [
       "(30424, 2)"
      ]
     },
     "execution_count": 55,
     "metadata": {},
     "output_type": "execute_result"
    }
   ],
   "source": [
    "df.shape #checking data dimension"
   ]
  },
  {
   "cell_type": "code",
   "execution_count": 56,
   "metadata": {},
   "outputs": [
    {
     "data": {
      "text/plain": [
       "ratings         0\n",
       "full_reviews    0\n",
       "dtype: int64"
      ]
     },
     "execution_count": 56,
     "metadata": {},
     "output_type": "execute_result"
    }
   ],
   "source": [
    "df.isnull().sum() #checking for null values"
   ]
  },
  {
   "cell_type": "code",
   "execution_count": 57,
   "metadata": {},
   "outputs": [
    {
     "data": {
      "text/plain": [
       "5.0    6369\n",
       "1.0    6369\n",
       "3.0    6349\n",
       "4.0    6306\n",
       "2.0    5031\n",
       "Name: ratings, dtype: int64"
      ]
     },
     "execution_count": 57,
     "metadata": {},
     "output_type": "execute_result"
    }
   ],
   "source": [
    "df[\"ratings\"].value_counts() #checking how many ratings are in the data and the total of each rating. "
   ]
  },
  {
   "cell_type": "code",
   "execution_count": 58,
   "metadata": {},
   "outputs": [
    {
     "name": "stdout",
     "output_type": "stream",
     "text": [
      "First_rating =  21.0 %\n",
      "second_rating  =  17.0 %\n",
      "Third_rating =  21.0 %\n",
      "Fourth_rating  =  21.0 %\n",
      "Fifth_rating =  21.0 %\n"
     ]
    }
   ],
   "source": [
    "# checking the value count with ratio to check how much percentage of each rating in the given data set.\n",
    "print ('First_rating = ', round(len(df[df['ratings']==1.0]) / len(df.ratings),2)*100,'%')\n",
    "print ('second_rating  = ', round(len(df[df['ratings']==2.0]) / len(df.ratings),2)*100,'%')\n",
    "print ('Third_rating = ', round(len(df[df['ratings']==3.0]) / len(df.ratings),2)*100,'%')\n",
    "print ('Fourth_rating  = ', round(len(df[df['ratings']==4.0]) / len(df.ratings),2)*100,'%')\n",
    "print ('Fifth_rating = ', round(len(df[df['ratings']==5.0]) / len(df.ratings),2)*100,'%')"
   ]
  },
  {
   "cell_type": "code",
   "execution_count": 59,
   "metadata": {},
   "outputs": [],
   "source": [
    "#we can see that each rating occupies 21% only the 2 star rating have 17%.  "
   ]
  },
  {
   "cell_type": "code",
   "execution_count": 60,
   "metadata": {},
   "outputs": [
    {
     "data": {
      "text/html": [
       "<div>\n",
       "<style scoped>\n",
       "    .dataframe tbody tr th:only-of-type {\n",
       "        vertical-align: middle;\n",
       "    }\n",
       "\n",
       "    .dataframe tbody tr th {\n",
       "        vertical-align: top;\n",
       "    }\n",
       "\n",
       "    .dataframe thead th {\n",
       "        text-align: right;\n",
       "    }\n",
       "</style>\n",
       "<table border=\"1\" class=\"dataframe\">\n",
       "  <thead>\n",
       "    <tr style=\"text-align: right;\">\n",
       "      <th></th>\n",
       "      <th>ratings</th>\n",
       "      <th>full_reviews</th>\n",
       "      <th>length</th>\n",
       "    </tr>\n",
       "  </thead>\n",
       "  <tbody>\n",
       "    <tr>\n",
       "      <th>0</th>\n",
       "      <td>1.0</td>\n",
       "      <td>Pathetic quality product, not even worth 1000 ...</td>\n",
       "      <td>243</td>\n",
       "    </tr>\n",
       "    <tr>\n",
       "      <th>1</th>\n",
       "      <td>1.0</td>\n",
       "      <td>Apart from showing accurate time &amp; much health...</td>\n",
       "      <td>636</td>\n",
       "    </tr>\n",
       "    <tr>\n",
       "      <th>2</th>\n",
       "      <td>1.0</td>\n",
       "      <td>this product does not support with one plus ph...</td>\n",
       "      <td>101</td>\n",
       "    </tr>\n",
       "    <tr>\n",
       "      <th>3</th>\n",
       "      <td>1.0</td>\n",
       "      <td>Don't buy this product!!\\nI received this prod...</td>\n",
       "      <td>453</td>\n",
       "    </tr>\n",
       "    <tr>\n",
       "      <th>4</th>\n",
       "      <td>1.0</td>\n",
       "      <td>Bluetooth coverage is 1 to 2 Mtrs max. Technic...</td>\n",
       "      <td>491</td>\n",
       "    </tr>\n",
       "  </tbody>\n",
       "</table>\n",
       "</div>"
      ],
      "text/plain": [
       "   ratings                                       full_reviews  length\n",
       "0      1.0  Pathetic quality product, not even worth 1000 ...     243\n",
       "1      1.0  Apart from showing accurate time & much health...     636\n",
       "2      1.0  this product does not support with one plus ph...     101\n",
       "3      1.0  Don't buy this product!!\\nI received this prod...     453\n",
       "4      1.0  Bluetooth coverage is 1 to 2 Mtrs max. Technic...     491"
      ]
     },
     "execution_count": 60,
     "metadata": {},
     "output_type": "execute_result"
    }
   ],
   "source": [
    "#Creating new column for the length of full_review.\n",
    "df[\"length\"]=df.full_reviews.str.len()\n",
    "df.head()"
   ]
  },
  {
   "cell_type": "markdown",
   "metadata": {},
   "source": [
    "Data Preprocessing."
   ]
  },
  {
   "cell_type": "code",
   "execution_count": 61,
   "metadata": {},
   "outputs": [],
   "source": [
    "# Convert all reviews to lower case\n",
    "df['full_reviews'] = df['full_reviews'].str.lower()"
   ]
  },
  {
   "cell_type": "code",
   "execution_count": 62,
   "metadata": {},
   "outputs": [
    {
     "data": {
      "text/html": [
       "<div>\n",
       "<style scoped>\n",
       "    .dataframe tbody tr th:only-of-type {\n",
       "        vertical-align: middle;\n",
       "    }\n",
       "\n",
       "    .dataframe tbody tr th {\n",
       "        vertical-align: top;\n",
       "    }\n",
       "\n",
       "    .dataframe thead th {\n",
       "        text-align: right;\n",
       "    }\n",
       "</style>\n",
       "<table border=\"1\" class=\"dataframe\">\n",
       "  <thead>\n",
       "    <tr style=\"text-align: right;\">\n",
       "      <th></th>\n",
       "      <th>ratings</th>\n",
       "      <th>full_reviews</th>\n",
       "      <th>length</th>\n",
       "    </tr>\n",
       "  </thead>\n",
       "  <tbody>\n",
       "    <tr>\n",
       "      <th>0</th>\n",
       "      <td>1.0</td>\n",
       "      <td>pathetic quality product, not even worth 1000 ...</td>\n",
       "      <td>243</td>\n",
       "    </tr>\n",
       "    <tr>\n",
       "      <th>1</th>\n",
       "      <td>1.0</td>\n",
       "      <td>apart from showing accurate time &amp; much health...</td>\n",
       "      <td>636</td>\n",
       "    </tr>\n",
       "    <tr>\n",
       "      <th>2</th>\n",
       "      <td>1.0</td>\n",
       "      <td>this product does not support with one plus ph...</td>\n",
       "      <td>101</td>\n",
       "    </tr>\n",
       "    <tr>\n",
       "      <th>3</th>\n",
       "      <td>1.0</td>\n",
       "      <td>don't buy this product!!\\ni received this prod...</td>\n",
       "      <td>453</td>\n",
       "    </tr>\n",
       "    <tr>\n",
       "      <th>4</th>\n",
       "      <td>1.0</td>\n",
       "      <td>bluetooth coverage is 1 to 2 mtrs max. technic...</td>\n",
       "      <td>491</td>\n",
       "    </tr>\n",
       "  </tbody>\n",
       "</table>\n",
       "</div>"
      ],
      "text/plain": [
       "   ratings                                       full_reviews  length\n",
       "0      1.0  pathetic quality product, not even worth 1000 ...     243\n",
       "1      1.0  apart from showing accurate time & much health...     636\n",
       "2      1.0  this product does not support with one plus ph...     101\n",
       "3      1.0  don't buy this product!!\\ni received this prod...     453\n",
       "4      1.0  bluetooth coverage is 1 to 2 mtrs max. technic...     491"
      ]
     },
     "execution_count": 62,
     "metadata": {},
     "output_type": "execute_result"
    }
   ],
   "source": [
    "df.head()"
   ]
  },
  {
   "cell_type": "code",
   "execution_count": 63,
   "metadata": {},
   "outputs": [],
   "source": [
    "# Replace numbers with 'numbr'\n",
    "df['full_reviews'] = df['full_reviews'].str.replace(r'\\d+(\\.\\d+)?', 'numbr')"
   ]
  },
  {
   "cell_type": "code",
   "execution_count": 64,
   "metadata": {},
   "outputs": [],
   "source": [
    "\n",
    "# Remove punctuation\n",
    "df['full_reviews'] = df['full_reviews'].str.replace(r'[^\\w\\d\\s]', ' ')\n",
    "\n",
    "# Replace whitespace between terms with a single space\n",
    "df['full_reviews'] = df['full_reviews'].str.replace(r'\\s+', ' ')\n",
    "\n",
    "# Remove leading and trailing whitespace\n",
    "df['full_reviews'] = df['full_reviews'].str.replace(r'^\\s+|\\s+?$', '')"
   ]
  },
  {
   "cell_type": "code",
   "execution_count": 65,
   "metadata": {},
   "outputs": [
    {
     "data": {
      "text/html": [
       "<div>\n",
       "<style scoped>\n",
       "    .dataframe tbody tr th:only-of-type {\n",
       "        vertical-align: middle;\n",
       "    }\n",
       "\n",
       "    .dataframe tbody tr th {\n",
       "        vertical-align: top;\n",
       "    }\n",
       "\n",
       "    .dataframe thead th {\n",
       "        text-align: right;\n",
       "    }\n",
       "</style>\n",
       "<table border=\"1\" class=\"dataframe\">\n",
       "  <thead>\n",
       "    <tr style=\"text-align: right;\">\n",
       "      <th></th>\n",
       "      <th>ratings</th>\n",
       "      <th>full_reviews</th>\n",
       "      <th>length</th>\n",
       "    </tr>\n",
       "  </thead>\n",
       "  <tbody>\n",
       "    <tr>\n",
       "      <th>0</th>\n",
       "      <td>1.0</td>\n",
       "      <td>pathetic quality product not even worth numbr ...</td>\n",
       "      <td>243</td>\n",
       "    </tr>\n",
       "    <tr>\n",
       "      <th>1</th>\n",
       "      <td>1.0</td>\n",
       "      <td>apart from showing accurate time much healthy ...</td>\n",
       "      <td>636</td>\n",
       "    </tr>\n",
       "    <tr>\n",
       "      <th>2</th>\n",
       "      <td>1.0</td>\n",
       "      <td>this product does not support with one plus ph...</td>\n",
       "      <td>101</td>\n",
       "    </tr>\n",
       "    <tr>\n",
       "      <th>3</th>\n",
       "      <td>1.0</td>\n",
       "      <td>don t buy this product i received this product...</td>\n",
       "      <td>453</td>\n",
       "    </tr>\n",
       "    <tr>\n",
       "      <th>4</th>\n",
       "      <td>1.0</td>\n",
       "      <td>bluetooth coverage is numbr to numbr mtrs max ...</td>\n",
       "      <td>491</td>\n",
       "    </tr>\n",
       "  </tbody>\n",
       "</table>\n",
       "</div>"
      ],
      "text/plain": [
       "   ratings                                       full_reviews  length\n",
       "0      1.0  pathetic quality product not even worth numbr ...     243\n",
       "1      1.0  apart from showing accurate time much healthy ...     636\n",
       "2      1.0  this product does not support with one plus ph...     101\n",
       "3      1.0  don t buy this product i received this product...     453\n",
       "4      1.0  bluetooth coverage is numbr to numbr mtrs max ...     491"
      ]
     },
     "execution_count": 65,
     "metadata": {},
     "output_type": "execute_result"
    }
   ],
   "source": [
    "df.head()"
   ]
  },
  {
   "cell_type": "code",
   "execution_count": 67,
   "metadata": {},
   "outputs": [],
   "source": [
    "# Remove stopwords\n",
    "import string\n",
    "import nltk\n",
    "from nltk.corpus import  stopwords\n",
    "\n",
    "stop_words = set(stopwords.words('english'))\n",
    "\n",
    "df['full_reviews'] = df['full_reviews'].apply(lambda x: ' '.join(term for term in x.split() if term not in stop_words))"
   ]
  },
  {
   "cell_type": "code",
   "execution_count": 68,
   "metadata": {},
   "outputs": [
    {
     "data": {
      "text/html": [
       "<div>\n",
       "<style scoped>\n",
       "    .dataframe tbody tr th:only-of-type {\n",
       "        vertical-align: middle;\n",
       "    }\n",
       "\n",
       "    .dataframe tbody tr th {\n",
       "        vertical-align: top;\n",
       "    }\n",
       "\n",
       "    .dataframe thead th {\n",
       "        text-align: right;\n",
       "    }\n",
       "</style>\n",
       "<table border=\"1\" class=\"dataframe\">\n",
       "  <thead>\n",
       "    <tr style=\"text-align: right;\">\n",
       "      <th></th>\n",
       "      <th>ratings</th>\n",
       "      <th>full_reviews</th>\n",
       "      <th>length</th>\n",
       "      <th>clean_length</th>\n",
       "    </tr>\n",
       "  </thead>\n",
       "  <tbody>\n",
       "    <tr>\n",
       "      <th>0</th>\n",
       "      <td>1.0</td>\n",
       "      <td>pathetic quality product even worth numbr rupe...</td>\n",
       "      <td>243</td>\n",
       "      <td>146</td>\n",
       "    </tr>\n",
       "    <tr>\n",
       "      <th>1</th>\n",
       "      <td>1.0</td>\n",
       "      <td>apart showing accurate time much healthy batte...</td>\n",
       "      <td>636</td>\n",
       "      <td>397</td>\n",
       "    </tr>\n",
       "    <tr>\n",
       "      <th>2</th>\n",
       "      <td>1.0</td>\n",
       "      <td>product support one plus phones worthless prod...</td>\n",
       "      <td>101</td>\n",
       "      <td>65</td>\n",
       "    </tr>\n",
       "    <tr>\n",
       "      <th>3</th>\n",
       "      <td>1.0</td>\n",
       "      <td>buy product received product numbrrd december ...</td>\n",
       "      <td>453</td>\n",
       "      <td>276</td>\n",
       "    </tr>\n",
       "    <tr>\n",
       "      <th>4</th>\n",
       "      <td>1.0</td>\n",
       "      <td>bluetooth coverage numbr numbr mtrs max techni...</td>\n",
       "      <td>491</td>\n",
       "      <td>359</td>\n",
       "    </tr>\n",
       "  </tbody>\n",
       "</table>\n",
       "</div>"
      ],
      "text/plain": [
       "   ratings                                       full_reviews  length  \\\n",
       "0      1.0  pathetic quality product even worth numbr rupe...     243   \n",
       "1      1.0  apart showing accurate time much healthy batte...     636   \n",
       "2      1.0  product support one plus phones worthless prod...     101   \n",
       "3      1.0  buy product received product numbrrd december ...     453   \n",
       "4      1.0  bluetooth coverage numbr numbr mtrs max techni...     491   \n",
       "\n",
       "   clean_length  \n",
       "0           146  \n",
       "1           397  \n",
       "2            65  \n",
       "3           276  \n",
       "4           359  "
      ]
     },
     "execution_count": 68,
     "metadata": {},
     "output_type": "execute_result"
    }
   ],
   "source": [
    "# New column (clean_length) after puncuations,stopwords removal\n",
    "df['clean_length'] = df['full_reviews'].str.len()\n",
    "df.head()"
   ]
  },
  {
   "cell_type": "code",
   "execution_count": 69,
   "metadata": {},
   "outputs": [
    {
     "name": "stdout",
     "output_type": "stream",
     "text": [
      "Origian Length 2754264\n",
      "Clean Length 1932821\n"
     ]
    }
   ],
   "source": [
    "print ('Origian Length', df.length.sum())\n",
    "print ('Clean Length', df.clean_length.sum())"
   ]
  },
  {
   "cell_type": "code",
   "execution_count": 70,
   "metadata": {},
   "outputs": [],
   "source": [
    "#We can see that nearly 825251 un wanted data removed from the original data. "
   ]
  },
  {
   "cell_type": "code",
   "execution_count": 71,
   "metadata": {},
   "outputs": [],
   "source": [
    "#we know that Machine understand only numerical data not the text. So here we are going to use NLP.\n",
    "#NLP(Natural Language processing)\n",
    "#In NLP there is Bag of words technique, with this we can change the text data into vectors. \n",
    "#There are some statistcal techniques to change the text data to vecotrs. \n",
    "#Here we are going to take TF-IDF(\"Term Frequency — Inverse Document Frequency”) technique."
   ]
  },
  {
   "cell_type": "code",
   "execution_count": 73,
   "metadata": {},
   "outputs": [],
   "source": [
    "# 1. Convert text into vectors using TF-IDF\n",
    "# 3. Split reviews and ratings\n",
    "from sklearn.feature_extraction.text import TfidfVectorizer\n",
    "from sklearn.model_selection import train_test_split\n",
    "from sklearn.metrics import accuracy_score, confusion_matrix, classification_report\n",
    "\n",
    "tf_vec = TfidfVectorizer()\n",
    "\n",
    "naive = MultinomialNB()\n",
    "\n",
    "features = tf_vec.fit_transform(df['full_reviews'])\n",
    "\n",
    "x = features\n",
    "y = df['ratings']"
   ]
  },
  {
   "cell_type": "code",
   "execution_count": null,
   "metadata": {},
   "outputs": [],
   "source": []
  },
  {
   "cell_type": "code",
   "execution_count": 76,
   "metadata": {},
   "outputs": [],
   "source": [
    "# train_test_split.\n",
    "\n",
    "x_train,x_test,y_train,y_test = train_test_split(x,y,test_size=0.30,random_state=42)\n"
   ]
  },
  {
   "cell_type": "code",
   "execution_count": 77,
   "metadata": {},
   "outputs": [],
   "source": [
    "#Importing machine learning libraries"
   ]
  },
  {
   "cell_type": "code",
   "execution_count": 80,
   "metadata": {},
   "outputs": [],
   "source": [
    "from sklearn.naive_bayes import MultinomialNB\n",
    "from sklearn.neighbors import KNeighborsClassifier\n",
    "from sklearn.linear_model import LogisticRegression\n",
    "from sklearn.svm import SVC\n",
    "from sklearn.model_selection import GridSearchCV\n",
    "from sklearn.model_selection import cross_val_score\n",
    "from sklearn.metrics import accuracy_score, confusion_matrix, classification_report\n",
    "import warnings\n",
    "warnings.filterwarnings('ignore')"
   ]
  },
  {
   "cell_type": "code",
   "execution_count": 81,
   "metadata": {},
   "outputs": [],
   "source": [
    "#creating Instantiate for Machine Learning Algorithms"
   ]
  },
  {
   "cell_type": "code",
   "execution_count": 82,
   "metadata": {},
   "outputs": [],
   "source": [
    "Mb=MultinomialNB()\n",
    "svc=SVC()\n",
    "knn=KNeighborsClassifier()\n",
    "lr=LogisticRegression()"
   ]
  },
  {
   "cell_type": "code",
   "execution_count": 83,
   "metadata": {},
   "outputs": [],
   "source": [
    "#Logistic Regression"
   ]
  },
  {
   "cell_type": "code",
   "execution_count": 84,
   "metadata": {},
   "outputs": [
    {
     "name": "stdout",
     "output_type": "stream",
     "text": [
      "0.537248028045574\n",
      "[[1387  183  162  102   49]\n",
      " [ 437  425  479  144   41]\n",
      " [ 294  294  857  309  158]\n",
      " [ 146   57  181  971  565]\n",
      " [ 129   15   63  416 1264]]\n",
      "              precision    recall  f1-score   support\n",
      "\n",
      "         1.0       0.58      0.74      0.65      1883\n",
      "         2.0       0.44      0.28      0.34      1526\n",
      "         3.0       0.49      0.45      0.47      1912\n",
      "         4.0       0.50      0.51      0.50      1920\n",
      "         5.0       0.61      0.67      0.64      1887\n",
      "\n",
      "    accuracy                           0.54      9128\n",
      "   macro avg       0.52      0.53      0.52      9128\n",
      "weighted avg       0.53      0.54      0.53      9128\n",
      "\n"
     ]
    }
   ],
   "source": [
    "lr.fit(x_train,y_train)\n",
    "pred=lr.predict(x_test)\n",
    "print(accuracy_score(y_test,pred))\n",
    "print(confusion_matrix(y_test,pred))\n",
    "print(classification_report(y_test,pred))"
   ]
  },
  {
   "cell_type": "code",
   "execution_count": 85,
   "metadata": {},
   "outputs": [],
   "source": [
    "#KNN"
   ]
  },
  {
   "cell_type": "code",
   "execution_count": 86,
   "metadata": {},
   "outputs": [
    {
     "name": "stdout",
     "output_type": "stream",
     "text": [
      "0.362182296231376\n",
      "[[828 364 133 489  69]\n",
      " [404 432 196 446  48]\n",
      " [365 451 343 616 137]\n",
      " [239 241 160 848 432]\n",
      " [142 150 107 633 855]]\n",
      "              precision    recall  f1-score   support\n",
      "\n",
      "         1.0       0.42      0.44      0.43      1883\n",
      "         2.0       0.26      0.28      0.27      1526\n",
      "         3.0       0.37      0.18      0.24      1912\n",
      "         4.0       0.28      0.44      0.34      1920\n",
      "         5.0       0.55      0.45      0.50      1887\n",
      "\n",
      "    accuracy                           0.36      9128\n",
      "   macro avg       0.38      0.36      0.36      9128\n",
      "weighted avg       0.38      0.36      0.36      9128\n",
      "\n"
     ]
    }
   ],
   "source": [
    "knn.fit(x_train,y_train)\n",
    "pred=knn.predict(x_test)\n",
    "print(accuracy_score(y_test,pred))\n",
    "print(confusion_matrix(y_test,pred))\n",
    "print(classification_report(y_test,pred))"
   ]
  },
  {
   "cell_type": "code",
   "execution_count": 87,
   "metadata": {},
   "outputs": [],
   "source": [
    "#SVC"
   ]
  },
  {
   "cell_type": "code",
   "execution_count": 88,
   "metadata": {},
   "outputs": [
    {
     "name": "stdout",
     "output_type": "stream",
     "text": [
      "0.55488606485539\n",
      "[[1419  151  169  100   44]\n",
      " [ 394  491  480  119   42]\n",
      " [ 304  236  897  308  167]\n",
      " [ 144   42  183  923  628]\n",
      " [ 135    9   58  350 1335]]\n",
      "              precision    recall  f1-score   support\n",
      "\n",
      "         1.0       0.59      0.75      0.66      1883\n",
      "         2.0       0.53      0.32      0.40      1526\n",
      "         3.0       0.50      0.47      0.48      1912\n",
      "         4.0       0.51      0.48      0.50      1920\n",
      "         5.0       0.60      0.71      0.65      1887\n",
      "\n",
      "    accuracy                           0.55      9128\n",
      "   macro avg       0.55      0.55      0.54      9128\n",
      "weighted avg       0.55      0.55      0.54      9128\n",
      "\n"
     ]
    }
   ],
   "source": [
    "svc.fit(x_train,y_train)\n",
    "pred=svc.predict(x_test)\n",
    "print(accuracy_score(y_test,pred))\n",
    "print(confusion_matrix(y_test,pred))\n",
    "print(classification_report(y_test,pred))"
   ]
  },
  {
   "cell_type": "code",
   "execution_count": 89,
   "metadata": {},
   "outputs": [],
   "source": [
    "#Naive Bayes"
   ]
  },
  {
   "cell_type": "code",
   "execution_count": 90,
   "metadata": {},
   "outputs": [
    {
     "name": "stdout",
     "output_type": "stream",
     "text": [
      "0.5287028921998247\n",
      "[[1388  101  220   68  106]\n",
      " [ 450  203  649  130   94]\n",
      " [ 305  114 1007  213  273]\n",
      " [ 158   29  216  692  825]\n",
      " [ 114    2   64  171 1536]]\n",
      "              precision    recall  f1-score   support\n",
      "\n",
      "         1.0       0.57      0.74      0.65      1883\n",
      "         2.0       0.45      0.13      0.21      1526\n",
      "         3.0       0.47      0.53      0.50      1912\n",
      "         4.0       0.54      0.36      0.43      1920\n",
      "         5.0       0.54      0.81      0.65      1887\n",
      "\n",
      "    accuracy                           0.53      9128\n",
      "   macro avg       0.52      0.51      0.49      9128\n",
      "weighted avg       0.52      0.53      0.50      9128\n",
      "\n"
     ]
    }
   ],
   "source": [
    "Mb.fit(x_train,y_train)\n",
    "pred=Mb.predict(x_test)\n",
    "print(accuracy_score(y_test,pred))\n",
    "print(confusion_matrix(y_test,pred))\n",
    "print(classification_report(y_test,pred))"
   ]
  },
  {
   "cell_type": "code",
   "execution_count": 94,
   "metadata": {},
   "outputs": [],
   "source": [
    "#from the above 4 algorithms result we can see that \"SVC\" is working better when compared with other algorithms. \n",
    "#SVC Better f1 score compared to other algorithms"
   ]
  },
  {
   "cell_type": "code",
   "execution_count": 98,
   "metadata": {},
   "outputs": [],
   "source": [
    "#We will save SVC model to predict ratings for the customers who provided reviews in past."
   ]
  },
  {
   "cell_type": "code",
   "execution_count": 99,
   "metadata": {},
   "outputs": [
    {
     "data": {
      "text/plain": [
       "array([3., 3., 1., ..., 1., 4., 2.])"
      ]
     },
     "execution_count": 99,
     "metadata": {},
     "output_type": "execute_result"
    }
   ],
   "source": [
    "import pickle#importing pickle to save the model.\n",
    "filename= 'picklelgfile.pkl'\n",
    "pickle.dump(svc, open(filename,'wb')) #------------------>>>>saving model\n",
    "loaded_model=pickle.load(open(filename,'rb'))#------------------>>>>example for reloading the model for predicting new data\n",
    "loaded_model.predict(x_test)."
   ]
  },
  {
   "cell_type": "code",
   "execution_count": null,
   "metadata": {},
   "outputs": [],
   "source": []
  }
 ],
 "metadata": {
  "kernelspec": {
   "display_name": "Python 3",
   "language": "python",
   "name": "python3"
  },
  "language_info": {
   "codemirror_mode": {
    "name": "ipython",
    "version": 3
   },
   "file_extension": ".py",
   "mimetype": "text/x-python",
   "name": "python",
   "nbconvert_exporter": "python",
   "pygments_lexer": "ipython3",
   "version": "3.8.3"
  }
 },
 "nbformat": 4,
 "nbformat_minor": 4
}
